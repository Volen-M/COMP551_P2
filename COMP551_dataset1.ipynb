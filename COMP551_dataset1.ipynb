{
  "nbformat": 4,
  "nbformat_minor": 0,
  "metadata": {
    "colab": {
      "name": "COMP551_dataset1.ipynb",
      "provenance": [],
      "collapsed_sections": []
    },
    "kernelspec": {
      "name": "python3",
      "display_name": "Python 3"
    }
  },
  "cells": [
    {
      "cell_type": "code",
      "metadata": {
        "id": "xtXMnR6wVIn3",
        "colab_type": "code",
        "outputId": "07e34baa-242f-4bff-b50d-a0c83d1ef24f",
        "colab": {
          "base_uri": "https://localhost:8080/",
          "height": 193
        }
      },
      "source": [
        "import sklearn\n",
        "from sklearn import datasets\n",
        "import numpy as np\n",
        "from sklearn.feature_extraction.text import CountVectorizer\n",
        "import nltk\n",
        "from nltk import word_tokenize        \n",
        "from nltk.stem import WordNetLemmatizer \n",
        "from sklearn.feature_extraction.text import TfidfTransformer\n",
        "from sklearn.linear_model import LogisticRegression\n",
        "from sklearn.preprocessing import Normalizer\n",
        "from sklearn.preprocessing import normalize\n",
        "from sklearn import preprocessing\n",
        "from sklearn import tree\n",
        "from sklearn.ensemble import AdaBoostClassifier\n",
        "from sklearn.svm import LinearSVC\n",
        "from sklearn.ensemble import RandomForestClassifier\n",
        "from sklearn.naive_bayes import MultinomialNB\n",
        "from sklearn.naive_bayes import GaussianNB\n",
        "from sklearn.model_selection import GridSearchCV\n",
        "from sklearn.pipeline import Pipeline\n",
        "import time\n",
        "from sklearn.feature_extraction import stop_words\n",
        "from sklearn.metrics import make_scorer\n",
        "from sklearn.metrics import accuracy_score\n",
        "from matplotlib import pyplot as plt\n",
        "from sklearn.metrics import classification_report\n",
        "from sklearn.feature_selection import SelectKBest\n",
        "from sklearn.feature_selection import chi2\n",
        "\n",
        "nltk.download('punkt')\n",
        "nltk.download('wordnet')\n",
        "nltk.download('stopwords')"
      ],
      "execution_count": 3,
      "outputs": [
        {
          "output_type": "stream",
          "text": [
            "/usr/local/lib/python3.6/dist-packages/sklearn/utils/deprecation.py:144: FutureWarning: The sklearn.feature_extraction.stop_words module is  deprecated in version 0.22 and will be removed in version 0.24. The corresponding classes / functions should instead be imported from sklearn.feature_extraction.text. Anything that cannot be imported from sklearn.feature_extraction.text is now part of the private API.\n",
            "  warnings.warn(message, FutureWarning)\n"
          ],
          "name": "stderr"
        },
        {
          "output_type": "stream",
          "text": [
            "[nltk_data] Downloading package punkt to /root/nltk_data...\n",
            "[nltk_data]   Unzipping tokenizers/punkt.zip.\n",
            "[nltk_data] Downloading package wordnet to /root/nltk_data...\n",
            "[nltk_data]   Unzipping corpora/wordnet.zip.\n",
            "[nltk_data] Downloading package stopwords to /root/nltk_data...\n",
            "[nltk_data]   Unzipping corpora/stopwords.zip.\n"
          ],
          "name": "stdout"
        },
        {
          "output_type": "execute_result",
          "data": {
            "text/plain": [
              "True"
            ]
          },
          "metadata": {
            "tags": []
          },
          "execution_count": 3
        }
      ]
    },
    {
      "cell_type": "code",
      "metadata": {
        "id": "wimTkPxhgsW5",
        "colab_type": "code",
        "colab": {}
      },
      "source": [
        " types = ['alt.atheism','comp.graphics',\n",
        "               'comp.os.ms-windows.misc','comp.sys.ibm.pc.hardware',\n",
        "               'comp.sys.ibm.pc.hardware','comp.windows.x','misc.forsale',\n",
        "               'rec.autos','rec.motorcycles','rec.sport.baseball'\n",
        "               ,'rec.sport.hockey','sci.crypt','sci.electronics','sci.med',\n",
        "               'sci.space','soc.religion.christian','talk.politics.guns',\n",
        "               'talk.politics.mideast','talk.politics.misc','talk.religion.misc']"
      ],
      "execution_count": 0,
      "outputs": []
    },
    {
      "cell_type": "code",
      "metadata": {
        "id": "x0UeiqOIW4Q8",
        "colab_type": "code",
        "colab": {
          "base_uri": "https://localhost:8080/",
          "height": 52
        },
        "outputId": "6b9c50ad-cb3f-4759-867e-5bdb9cff842d"
      },
      "source": [
        "train= sklearn.datasets.fetch_20newsgroups(subset='train',remove=(['headers','footers','quotes']),shuffle=True,random_state=42,categories=types)\n",
        "tests= sklearn.datasets.fetch_20newsgroups(subset='test',remove=(['headers','footers','quotes']),shuffle=True,random_state=42,categories=types)"
      ],
      "execution_count": 5,
      "outputs": [
        {
          "output_type": "stream",
          "text": [
            "Downloading 20news dataset. This may take a few minutes.\n",
            "Downloading dataset from https://ndownloader.figshare.com/files/5975967 (14 MB)\n"
          ],
          "name": "stderr"
        }
      ]
    },
    {
      "cell_type": "code",
      "metadata": {
        "id": "6euXFuQNdFD1",
        "colab_type": "code",
        "colab": {}
      },
      "source": [
        "# class LemmaTokenizer:\n",
        "#      def __init__(self):\n",
        "#          self.wnl = WordNetLemmatizer()\n",
        "#      def __call__(self, doc):\n",
        "#          return [self.wnl.lemmatize(t) for t in word_tokenize(doc)]\n",
        "# stopwords = nltk.corpus.stopwords.words('english')\n",
        "# count_vect = CountVectorizer(stop_words=stopwords,lowercase=True,min_df=3)\n",
        "# #count_vect_test= CountVectorizer(tokenizer=LemmaTokenizer(),lowercase=True,stop_words={'to','a','the','this','them','these','those'})\n",
        "# X_train_counts = count_vect.fit_transform(train.data)\n",
        "# X_train_scale= normalize(X_train_counts)#scaler.fit_transform(X_train_counts)\n",
        "# X_test_counts = count_vect.transform(tests.data)\n",
        "# X_test_scale= normalize(X_test_counts)#scaler.transform(X_test_counts)\n",
        "# Y_train_scale= train.target\n",
        "# Y_test_counts =tests.target"
      ],
      "execution_count": 0,
      "outputs": []
    },
    {
      "cell_type": "code",
      "metadata": {
        "id": "ZCE8SZhU0JiE",
        "colab_type": "code",
        "colab": {}
      },
      "source": [
        "#lemmatization analysis\n",
        "class LemmaTokenizer:\n",
        "     def __init__(self):\n",
        "         self.wnl = WordNetLemmatizer()\n",
        "     def __call__(self, doc):\n",
        "         return [self.wnl.lemmatize(t) for t in word_tokenize(doc)]"
      ],
      "execution_count": 0,
      "outputs": []
    },
    {
      "cell_type": "code",
      "metadata": {
        "id": "vPtF3ej_rFPL",
        "colab_type": "code",
        "colab": {}
      },
      "source": [
        "#Data Preprocessing for Decision Tree\n",
        "sub=[]\n",
        "subtest=[]\n",
        "for res in train.data:\n",
        "  sub.append(res.replace(\"\\n\",\"\").replace(\"-\",\"\"))\n",
        "for res in tests.data:\n",
        "  subtest.append(res.replace(\"\\n\",\"\").replace(\"-\",\"\"))"
      ],
      "execution_count": 0,
      "outputs": []
    },
    {
      "cell_type": "markdown",
      "metadata": {
        "id": "VpcI0NabPJIb",
        "colab_type": "text"
      },
      "source": [
        "## Models\n"
      ]
    },
    {
      "cell_type": "markdown",
      "metadata": {
        "id": "CxMUcC9dO1RY",
        "colab_type": "text"
      },
      "source": [
        "### Logistic Regression"
      ]
    },
    {
      "cell_type": "code",
      "metadata": {
        "id": "CPNASY7KxlZx",
        "colab_type": "code",
        "outputId": "dd843420-f2f1-418f-c8d9-193b22a8368d",
        "colab": {
          "base_uri": "https://localhost:8080/",
          "height": 159
        }
      },
      "source": [
        "#tfidf_transformer = TfidfTransformer()\n",
        "#X_train_tfidf = tfidf_transformer.fit_transform(X_train_scale)\n",
        "#Y_train_tfidf = tfidf_transformer.fit_transform(Y_train_counts)\n",
        "stoplist = nltk.corpus.stopwords.words('english')\n",
        "text_clf = Pipeline([\n",
        "    ('vect', CountVectorizer(stop_words=stoplist,lowercase=True,min_df=3)),\n",
        "    ('norm',Normalizer()),\n",
        "    ('tfidf', TfidfTransformer()),\n",
        "    ('clf',LogisticRegression()),\n",
        " ])\n",
        "\n",
        "tuned_parameters= [{'clf__C':[1.0,1.5,2.0,2.5,3.0,4.0,5.0],'clf__tol': [1e-4],'clf__max_iter':[400]}]\n",
        "t1_start = time.time() \n",
        "clf=GridSearchCV(text_clf, tuned_parameters, scoring='accuracy',cv=5, n_jobs=-1)\n",
        "clf.fit(train.data,train.target)\n",
        "print(clf.best_params_)\n",
        "print(clf.cv_results_['rank_test_score'])\n",
        "print(clf.cv_results_['mean_test_score'])\n",
        "t1_end = time.time() \n",
        "print('processing time is :',t1_end-t1_start)"
      ],
      "execution_count": 0,
      "outputs": [
        {
          "output_type": "stream",
          "text": [
            "/usr/local/lib/python3.6/dist-packages/joblib/externals/loky/process_executor.py:706: UserWarning: A worker stopped while some jobs were given to the executor. This can be caused by a too short worker timeout or by a memory leak.\n",
            "  \"timeout or by a memory leak.\", UserWarning\n"
          ],
          "name": "stderr"
        },
        {
          "output_type": "stream",
          "text": [
            "{'clf__C': 3.0, 'clf__max_iter': 400, 'clf__tol': 0.0001}\n",
            "[7 6 3 2 1 4 5]\n",
            "[0.7440398  0.74823139 0.75009411 0.75111897 0.75223659 0.7496286\n",
            " 0.74860409]\n",
            "processing time is : 431.88779497146606\n"
          ],
          "name": "stdout"
        }
      ]
    },
    {
      "cell_type": "markdown",
      "metadata": {
        "id": "i8mYC1LO1mkA",
        "colab_type": "text"
      },
      "source": [
        "###### LR Plot"
      ]
    },
    {
      "cell_type": "code",
      "metadata": {
        "id": "OqPi1yDs1l-W",
        "colab_type": "code",
        "outputId": "afa12e01-fef1-48e8-922a-aa3adf81c253",
        "colab": {
          "base_uri": "https://localhost:8080/",
          "height": 313
        }
      },
      "source": [
        "plt.plot([1.0,1.5,2.0,2.5,3.0,4.0,5.0], [0.7440398,0.74823139,0.75009411,0.75111897,0.75223659,0.7496286, 0.74860409])\n",
        "plt.ylabel('CV training Accuracy')\n",
        "plt.xlabel('Smooth factors (C)')\n",
        "plt.title('CV Train Accuracy VS Smooth factor C')"
      ],
      "execution_count": 0,
      "outputs": [
        {
          "output_type": "execute_result",
          "data": {
            "text/plain": [
              "Text(0.5, 1.0, 'CV Train Accuracy VS Smooth factor C')"
            ]
          },
          "metadata": {
            "tags": []
          },
          "execution_count": 77
        },
        {
          "output_type": "display_data",
          "data": {
            "image/png": "[encoded data removed]",
            "text/plain": [
              "<Figure size 432x288 with 1 Axes>"
            ]
          },
          "metadata": {
            "tags": []
          }
        }
      ]
    },
    {
      "cell_type": "markdown",
      "metadata": {
        "id": "0Me4YKcCnfMR",
        "colab_type": "text"
      },
      "source": [
        "### Test Accuracy"
      ]
    },
    {
      "cell_type": "code",
      "metadata": {
        "id": "66Qb_oMnc7iW",
        "colab_type": "code",
        "outputId": "79e44aba-9c16-47c7-9a9e-32e69b1858b0",
        "colab": {
          "base_uri": "https://localhost:8080/",
          "height": 503
        }
      },
      "source": [
        "lg = LogisticRegression(C=3,tol=1e-12,max_iter=10000)\n",
        "stoplist = nltk.corpus.stopwords.words('english')\n",
        "count_vect=CountVectorizer(stop_words=stoplist,lowercase=True, ngram_range=(1,2),max_features=60000)\n",
        "tfidf_transformer = TfidfTransformer()\n",
        "#Train data retrieve\n",
        "t1_start = time.time()\n",
        "X_train_counts = count_vect.fit_transform(train.data)\n",
        "X_train_tfidf = tfidf_transformer.fit_transform(X_train_counts)\n",
        "lg.fit(X_train_tfidf, train.target)\n",
        "#Test data retrieve\n",
        "X_test_counts = count_vect.transform(tests.data)\n",
        "X_test_tfidf = tfidf_transformer.transform(X_test_counts)\n",
        "\n",
        "#Print the test accuracy\n",
        "predicted = lg.predict(X_test_tfidf)\n",
        "t1_end = time.time() \n",
        "print(classification_report(tests.target, predicted))\n",
        "print('mean',np.mean(predicted==tests.target))\n",
        "print('processing time is :',t1_end-t1_start)"
      ],
      "execution_count": 8,
      "outputs": [
        {
          "output_type": "stream",
          "text": [
            "              precision    recall  f1-score   support\n",
            "\n",
            "           0       0.51      0.47      0.49       319\n",
            "           1       0.63      0.71      0.67       389\n",
            "           2       0.64      0.63      0.64       394\n",
            "           3       0.69      0.69      0.69       392\n",
            "           5       0.83      0.70      0.76       395\n",
            "           6       0.79      0.80      0.80       390\n",
            "           7       0.74      0.71      0.73       396\n",
            "           8       0.76      0.78      0.77       398\n",
            "           9       0.56      0.85      0.68       397\n",
            "          10       0.89      0.86      0.87       399\n",
            "          11       0.87      0.69      0.77       396\n",
            "          12       0.59      0.60      0.60       393\n",
            "          13       0.77      0.76      0.77       396\n",
            "          14       0.72      0.76      0.74       394\n",
            "          15       0.65      0.78      0.71       398\n",
            "          16       0.58      0.66      0.62       364\n",
            "          17       0.85      0.74      0.79       376\n",
            "          18       0.56      0.45      0.50       310\n",
            "          19       0.48      0.26      0.34       251\n",
            "\n",
            "    accuracy                           0.69      7147\n",
            "   macro avg       0.69      0.68      0.68      7147\n",
            "weighted avg       0.70      0.69      0.69      7147\n",
            "\n",
            "mean 0.6931579683783405\n",
            "processing time is : 42.85560727119446\n"
          ],
          "name": "stdout"
        }
      ]
    },
    {
      "cell_type": "markdown",
      "metadata": {
        "id": "QBO0yaWOnk4s",
        "colab_type": "text"
      },
      "source": [
        "### Time Consumption"
      ]
    },
    {
      "cell_type": "code",
      "metadata": {
        "id": "lAYMNIEPnj8m",
        "colab_type": "code",
        "colab": {
          "base_uri": "https://localhost:8080/",
          "height": 503
        },
        "outputId": "fb5f9074-b1f0-4cce-8c72-0d0f7bf81272"
      },
      "source": [
        "lg = LogisticRegression()\n",
        "stoplist = nltk.corpus.stopwords.words('english')\n",
        "count_vect=CountVectorizer(lowercase=True, binary=True)\n",
        "tfidf_transformer = TfidfTransformer()\n",
        "#Train data retrieve\n",
        "t1_start = time.time()\n",
        "X_train_counts = count_vect.fit_transform(train.data)\n",
        "X_train_tfidf = tfidf_transformer.fit_transform(X_train_counts)\n",
        "lg.fit(X_train_tfidf, train.target)\n",
        "#Test data retrieve\n",
        "X_test_counts = count_vect.transform(tests.data)\n",
        "X_test_tfidf = tfidf_transformer.transform(X_test_counts)\n",
        "\n",
        "#Print the test accuracy\n",
        "predicted = lg.predict(X_test_tfidf)\n",
        "t1_end = time.time() \n",
        "print(classification_report(tests.target, predicted))\n",
        "print('mean',np.mean(predicted==tests.target))\n",
        "print('processing time is :',t1_end-t1_start)"
      ],
      "execution_count": 9,
      "outputs": [
        {
          "output_type": "stream",
          "text": [
            "              precision    recall  f1-score   support\n",
            "\n",
            "           0       0.47      0.44      0.45       319\n",
            "           1       0.61      0.72      0.66       389\n",
            "           2       0.67      0.62      0.65       394\n",
            "           3       0.72      0.69      0.71       392\n",
            "           5       0.84      0.71      0.77       395\n",
            "           6       0.78      0.83      0.80       390\n",
            "           7       0.76      0.71      0.73       396\n",
            "           8       0.49      0.81      0.61       398\n",
            "           9       0.77      0.82      0.80       397\n",
            "          10       0.92      0.85      0.89       399\n",
            "          11       0.87      0.68      0.77       396\n",
            "          12       0.59      0.61      0.60       393\n",
            "          13       0.79      0.73      0.76       396\n",
            "          14       0.70      0.74      0.72       394\n",
            "          15       0.60      0.82      0.70       398\n",
            "          16       0.57      0.71      0.63       364\n",
            "          17       0.83      0.76      0.79       376\n",
            "          18       0.65      0.41      0.50       310\n",
            "          19       0.51      0.12      0.19       251\n",
            "\n",
            "    accuracy                           0.69      7147\n",
            "   macro avg       0.69      0.67      0.67      7147\n",
            "weighted avg       0.70      0.69      0.68      7147\n",
            "\n",
            "mean 0.689240240660417\n",
            "processing time is : 39.42560315132141\n"
          ],
          "name": "stdout"
        }
      ]
    },
    {
      "cell_type": "markdown",
      "metadata": {
        "id": "_omSuwrUQF5U",
        "colab_type": "text"
      },
      "source": [
        "### Decision Tree"
      ]
    },
    {
      "cell_type": "markdown",
      "metadata": {
        "id": "7Eaap-OhTMa7",
        "colab_type": "text"
      },
      "source": [
        "#### GridSearch K_fold validation"
      ]
    },
    {
      "cell_type": "code",
      "metadata": {
        "id": "U0BefisysFma",
        "colab_type": "code",
        "outputId": "2e0782aa-64d5-4fbf-cf6d-804910a7da0d",
        "colab": {
          "base_uri": "https://localhost:8080/",
          "height": 104
        }
      },
      "source": [
        "stoplist = nltk.corpus.stopwords.words('english')\n",
        "text_clf = Pipeline([\n",
        "    ('vect', CountVectorizer(stop_words=stoplist,lowercase=True)),\n",
        "    ('norm',Normalizer()),\n",
        "    ('tfidf', TfidfTransformer()),\n",
        "    ('clf',tree.DecisionTreeClassifier()),\n",
        " ])\n",
        "\n",
        "tuned_parameters= [{'clf__max_depth':[50,100,200,400,None],'clf__max_features':[None],'clf__splitter':['random','best']}]\n",
        "t1_start = time.time() \n",
        "clf=GridSearchCV(text_clf, tuned_parameters, scoring='accuracy',cv=5, n_jobs=-1)\n",
        "clf.fit(sub,train.target)\n",
        "print(clf.best_params_)\n",
        "print(clf.cv_results_['rank_test_score'])\n",
        "print(clf.cv_results_['mean_test_score'])\n",
        "t1_end = time.time() \n",
        "print('processing time is :',t1_end-t1_start)"
      ],
      "execution_count": 0,
      "outputs": [
        {
          "output_type": "stream",
          "text": [
            "{'clf__max_depth': 400, 'clf__max_features': None, 'clf__splitter': 'random'}\n",
            "[10  9  7  8  5  6  1  4  2  3]\n",
            "[0.3622382  0.3722991  0.42548487 0.41831281 0.45724687 0.45175126\n",
            " 0.47419863 0.46413991 0.4721487  0.46423189]\n",
            "processing time is : 607.0480010509491\n"
          ],
          "name": "stdout"
        }
      ]
    },
    {
      "cell_type": "markdown",
      "metadata": {
        "id": "Ahb01C72nvzQ",
        "colab_type": "text"
      },
      "source": [
        "### Test Accuracy"
      ]
    },
    {
      "cell_type": "code",
      "metadata": {
        "id": "VAuNSaN0mhk3",
        "colab_type": "code",
        "outputId": "c50f8cd1-398e-478f-c36d-70f37e44e5ca",
        "colab": {
          "base_uri": "https://localhost:8080/",
          "height": 485
        }
      },
      "source": [
        "#applied sub and subtest as the traindata and testdata, improved accuracy by 0.005\n",
        "count_vect=CountVectorizer(stop_words=stoplist,lowercase=True)\n",
        "tfidf_transformer = TfidfTransformer()\n",
        "t1_start = time.time()\n",
        "X_train_counts = count_vect.fit_transform(sub)\n",
        "X_train_tfidf = tfidf_transformer.fit_transform(X_train_counts)\n",
        "#Y_train_tfidf = tfidf_transformer.fit_transform(Y_train_counts)\n",
        "\n",
        "X_test_counts = count_vect.transform(subtest)\n",
        "X_test_tfidf = tfidf_transformer.transform(X_test_counts)\n",
        "\n",
        "DT_clf = tree.DecisionTreeClassifier(max_depth=600, max_features=None, max_leaf_nodes=1500, splitter='random',min_samples_split=4)\n",
        "DT_clf=DT_clf.fit(X_train_tfidf,train.target )\n",
        "predicted = DT_clf.predict(X_test_tfidf)\n",
        "t1_end = time.time() \n",
        "print(classification_report(tests.target, predicted))\n",
        "print(np.mean(predicted ==tests.target))\n",
        "print('processing time is :',t1_end-t1_start)"
      ],
      "execution_count": 0,
      "outputs": [
        {
          "output_type": "stream",
          "text": [
            "              precision    recall  f1-score   support\n",
            "\n",
            "           0       0.26      0.21      0.23       319\n",
            "           1       0.37      0.46      0.41       389\n",
            "           2       0.43      0.40      0.42       394\n",
            "           3       0.44      0.41      0.42       392\n",
            "           5       0.51      0.43      0.47       395\n",
            "           6       0.58      0.57      0.57       390\n",
            "           7       0.24      0.63      0.35       396\n",
            "           8       0.64      0.54      0.59       398\n",
            "           9       0.65      0.49      0.55       397\n",
            "          10       0.64      0.62      0.63       399\n",
            "          11       0.60      0.47      0.53       396\n",
            "          12       0.35      0.26      0.30       393\n",
            "          13       0.42      0.41      0.41       396\n",
            "          14       0.56      0.49      0.53       394\n",
            "          15       0.47      0.55      0.51       398\n",
            "          16       0.33      0.41      0.37       364\n",
            "          17       0.61      0.46      0.52       376\n",
            "          18       0.32      0.21      0.25       310\n",
            "          19       0.18      0.11      0.13       251\n",
            "\n",
            "    accuracy                           0.44      7147\n",
            "   macro avg       0.45      0.43      0.43      7147\n",
            "weighted avg       0.46      0.44      0.44      7147\n",
            "\n",
            "0.43920526094864976\n"
          ],
          "name": "stdout"
        }
      ]
    },
    {
      "cell_type": "markdown",
      "metadata": {
        "id": "RtVnnPSHobXX",
        "colab_type": "text"
      },
      "source": [
        "### Time Consumption"
      ]
    },
    {
      "cell_type": "code",
      "metadata": {
        "id": "SHVjtRa8n0Xk",
        "colab_type": "code",
        "colab": {
          "base_uri": "https://localhost:8080/",
          "height": 503
        },
        "outputId": "7f519818-b866-4c43-c01e-2193fd9f0fc9"
      },
      "source": [
        "#applied sub and subtest as the traindata and testdata, improved accuracy by 0.005\n",
        "count_vect=CountVectorizer(lowercase=True,binary=True)\n",
        "tfidf_transformer = TfidfTransformer()\n",
        "t1_start = time.time()\n",
        "X_train_counts = count_vect.fit_transform(sub)\n",
        "X_train_tfidf = tfidf_transformer.fit_transform(X_train_counts)\n",
        "#Y_train_tfidf = tfidf_transformer.fit_transform(Y_train_counts)\n",
        "\n",
        "X_test_counts = count_vect.transform(subtest)\n",
        "X_test_tfidf = tfidf_transformer.transform(X_test_counts)\n",
        "\n",
        "DT_clf = tree.DecisionTreeClassifier()\n",
        "DT_clf=DT_clf.fit(X_train_tfidf,train.target )\n",
        "predicted = DT_clf.predict(X_test_tfidf)\n",
        "t1_end = time.time() \n",
        "print(classification_report(tests.target, predicted))\n",
        "print(np.mean(predicted ==tests.target))\n",
        "print('processing time is :',t1_end-t1_start)"
      ],
      "execution_count": 10,
      "outputs": [
        {
          "output_type": "stream",
          "text": [
            "              precision    recall  f1-score   support\n",
            "\n",
            "           0       0.20      0.21      0.20       319\n",
            "           1       0.36      0.40      0.38       389\n",
            "           2       0.38      0.35      0.36       394\n",
            "           3       0.33      0.34      0.34       392\n",
            "           5       0.46      0.42      0.44       395\n",
            "           6       0.58      0.53      0.56       390\n",
            "           7       0.28      0.45      0.35       396\n",
            "           8       0.50      0.51      0.51       398\n",
            "           9       0.39      0.42      0.41       397\n",
            "          10       0.55      0.52      0.54       399\n",
            "          11       0.55      0.42      0.48       396\n",
            "          12       0.27      0.26      0.27       393\n",
            "          13       0.42      0.35      0.38       396\n",
            "          14       0.43      0.44      0.43       394\n",
            "          15       0.40      0.37      0.39       398\n",
            "          16       0.33      0.33      0.33       364\n",
            "          17       0.48      0.46      0.47       376\n",
            "          18       0.19      0.18      0.18       310\n",
            "          19       0.18      0.17      0.18       251\n",
            "\n",
            "    accuracy                           0.38      7147\n",
            "   macro avg       0.38      0.38      0.38      7147\n",
            "weighted avg       0.39      0.38      0.39      7147\n",
            "\n",
            "0.3843570728977193\n",
            "processing time is : 26.472679615020752\n"
          ],
          "name": "stdout"
        }
      ]
    },
    {
      "cell_type": "markdown",
      "metadata": {
        "id": "xQvLgDrAThFA",
        "colab_type": "text"
      },
      "source": [
        "### Adaboost\n"
      ]
    },
    {
      "cell_type": "code",
      "metadata": {
        "id": "cYPTpP2LQUSz",
        "colab_type": "code",
        "outputId": "b93c2486-4aeb-4a2f-c6b2-a9b5631a6102",
        "colab": {
          "base_uri": "https://localhost:8080/",
          "height": 104
        }
      },
      "source": [
        "stoplist = nltk.corpus.stopwords.words('english')\n",
        "\n",
        "text_clf = Pipeline([\n",
        "    ('vect', CountVectorizer(stop_words=stoplist,lowercase=True)),\n",
        "    ('norm',Normalizer()),\n",
        "    ('tfidf', TfidfTransformer()),\n",
        "    ('clf',AdaBoostClassifier()),\n",
        " ])\n",
        "\n",
        "tuned_parameters= [{'clf__learning_rate':[0.1,0.2,0.5,1.0],'clf__n_estimators':[50,100]}]\n",
        "t1_start = time.time() \n",
        "clf=GridSearchCV(text_clf, tuned_parameters, scoring='accuracy',cv=5, n_jobs=-1)\n",
        "clf.fit(train.data,train.target)\n",
        "print(clf.best_params_)\n",
        "print(clf.cv_results_['rank_test_score'])\n",
        "print(clf.cv_results_['mean_test_score'])\n",
        "t1_end = time.time() \n",
        "print('processing time is :',t1_end-t1_start)"
      ],
      "execution_count": 0,
      "outputs": [
        {
          "output_type": "stream",
          "text": [
            "{'clf__learning_rate': 0.5, 'clf__n_estimators': 100}\n",
            "[8 6 7 3 5 1 4 2]\n",
            "[0.32544571 0.39185733 0.37304376 0.44327419 0.39605027 0.46628143\n",
            " 0.40285037 0.46618919]\n",
            "processing time is : 425.0972776412964\n"
          ],
          "name": "stdout"
        }
      ]
    },
    {
      "cell_type": "markdown",
      "metadata": {
        "id": "5bKkvtwmoHWX",
        "colab_type": "text"
      },
      "source": [
        "### Test Accuracy"
      ]
    },
    {
      "cell_type": "code",
      "metadata": {
        "id": "POIuhta_w-A9",
        "colab_type": "code",
        "outputId": "a577f843-9edf-4dfe-e687-185373308d54",
        "colab": {
          "base_uri": "https://localhost:8080/",
          "height": 503
        }
      },
      "source": [
        "stoplist = nltk.corpus.stopwords.words('english')\n",
        "count_vect=CountVectorizer(stop_words=stoplist,lowercase=True)\n",
        "tfidf_transformer = TfidfTransformer()\n",
        "X_train_counts = count_vect.fit_transform(train.data)\n",
        "X_train_tfidf = tfidf_transformer.fit_transform(X_train_counts)\n",
        "#Y_train_tfidf = tfidf_transformer.fit_transform(Y_train_counts)\n",
        "\n",
        "X_test_counts = count_vect.transform(tests.data)\n",
        "X_test_tfidf = tfidf_transformer.transform(X_test_counts)\n",
        "t1_start = time.time() \n",
        "DT_clf = AdaBoostClassifier(learning_rate=1.75,n_estimators=250,random_state=0)\n",
        "DT_clf=DT_clf.fit(X_train_tfidf,train.target )\n",
        "predicted = DT_clf.predict(X_test_tfidf)\n",
        "t1_end = time.time() \n",
        "print('processing time is :',t1_end-t1_start)\n",
        "print(classification_report(tests.target, predicted))\n",
        "print(np.mean(predicted ==tests.target))"
      ],
      "execution_count": 0,
      "outputs": [
        {
          "output_type": "stream",
          "text": [
            "processing time is : 46.78001260757446\n",
            "              precision    recall  f1-score   support\n",
            "\n",
            "           0       0.38      0.28      0.32       319\n",
            "           1       0.50      0.43      0.46       389\n",
            "           2       0.43      0.50      0.46       394\n",
            "           3       0.46      0.45      0.45       392\n",
            "           5       0.57      0.49      0.52       395\n",
            "           6       0.49      0.55      0.52       390\n",
            "           7       0.74      0.42      0.53       396\n",
            "           8       0.53      0.48      0.50       398\n",
            "           9       0.17      0.64      0.27       397\n",
            "          10       0.70      0.47      0.56       399\n",
            "          11       0.78      0.52      0.62       396\n",
            "          12       0.29      0.28      0.29       393\n",
            "          13       0.77      0.31      0.44       396\n",
            "          14       0.63      0.46      0.53       394\n",
            "          15       0.40      0.58      0.47       398\n",
            "          16       0.50      0.35      0.41       364\n",
            "          17       0.91      0.54      0.68       376\n",
            "          18       0.26      0.27      0.27       310\n",
            "          19       0.24      0.14      0.18       251\n",
            "\n",
            "    accuracy                           0.44      7147\n",
            "   macro avg       0.51      0.43      0.45      7147\n",
            "weighted avg       0.52      0.44      0.46      7147\n",
            "\n",
            "0.4383657478662376\n"
          ],
          "name": "stdout"
        }
      ]
    },
    {
      "cell_type": "markdown",
      "metadata": {
        "id": "9Pyb5XVlolxj",
        "colab_type": "text"
      },
      "source": [
        "### Time Consumption"
      ]
    },
    {
      "cell_type": "code",
      "metadata": {
        "id": "SG6MiXDWoLG2",
        "colab_type": "code",
        "colab": {
          "base_uri": "https://localhost:8080/",
          "height": 503
        },
        "outputId": "e27e8c9a-c648-40cc-e952-855c83b2ee21"
      },
      "source": [
        "stoplist = nltk.corpus.stopwords.words('english')\n",
        "count_vect=CountVectorizer(lowercase=True,binary=True)\n",
        "tfidf_transformer = TfidfTransformer()\n",
        "\n",
        "t1_start = time.time()\n",
        "X_train_counts = count_vect.fit_transform(train.data)\n",
        "X_train_tfidf = tfidf_transformer.fit_transform(X_train_counts)\n",
        "#Y_train_tfidf = tfidf_transformer.fit_transform(Y_train_counts)\n",
        "\n",
        "X_test_counts = count_vect.transform(tests.data)\n",
        "X_test_tfidf = tfidf_transformer.transform(X_test_counts)\n",
        "\n",
        "DT_clf = AdaBoostClassifier()\n",
        "DT_clf=DT_clf.fit(X_train_tfidf,train.target )\n",
        "predicted = DT_clf.predict(X_test_tfidf)\n",
        "t1_end = time.time() \n",
        "print('processing time is :',t1_end-t1_start)\n",
        "print(classification_report(tests.target, predicted))\n",
        "print(np.mean(predicted ==tests.target))"
      ],
      "execution_count": 11,
      "outputs": [
        {
          "output_type": "stream",
          "text": [
            "processing time is : 14.095856428146362\n",
            "              precision    recall  f1-score   support\n",
            "\n",
            "           0       0.22      0.01      0.01       319\n",
            "           1       0.66      0.22      0.33       389\n",
            "           2       0.64      0.37      0.47       394\n",
            "           3       0.51      0.38      0.43       392\n",
            "           5       0.69      0.47      0.56       395\n",
            "           6       0.79      0.52      0.62       390\n",
            "           7       0.77      0.39      0.52       396\n",
            "           8       0.91      0.33      0.48       398\n",
            "           9       0.77      0.19      0.31       397\n",
            "          10       0.64      0.57      0.60       399\n",
            "          11       0.82      0.43      0.56       396\n",
            "          12       0.09      0.83      0.16       393\n",
            "          13       0.92      0.19      0.32       396\n",
            "          14       0.72      0.35      0.47       394\n",
            "          15       0.52      0.62      0.57       398\n",
            "          16       0.49      0.23      0.31       364\n",
            "          17       0.91      0.50      0.64       376\n",
            "          18       0.27      0.17      0.21       310\n",
            "          19       0.33      0.02      0.04       251\n",
            "\n",
            "    accuracy                           0.37      7147\n",
            "   macro avg       0.61      0.36      0.40      7147\n",
            "weighted avg       0.63      0.37      0.41      7147\n",
            "\n",
            "0.3689659997201623\n"
          ],
          "name": "stdout"
        }
      ]
    },
    {
      "cell_type": "markdown",
      "metadata": {
        "id": "She0qxaZTpJb",
        "colab_type": "text"
      },
      "source": [
        "### Linear SVC"
      ]
    },
    {
      "cell_type": "code",
      "metadata": {
        "id": "V8DXTRWh2nAS",
        "colab_type": "code",
        "outputId": "48ab5d0c-dcd0-434c-d7f8-1abbb6a5e275",
        "colab": {
          "base_uri": "https://localhost:8080/",
          "height": 121
        }
      },
      "source": [
        "stoplist = nltk.corpus.stopwords.words('english')\n",
        "\n",
        "text_clf = Pipeline([\n",
        "    ('vect', CountVectorizer(stop_words=stoplist,lowercase=True)),\n",
        "    ('norm',Normalizer()),\n",
        "    ('tfidf', TfidfTransformer()),\n",
        "    ('clf',LinearSVC()),\n",
        " ])\n",
        "\n",
        "tuned_parameters= [{'clf__C':[0.1,0.2,0.3,0.4],'clf__loss':['squared_hinge'],'clf__tol':[1e-4,1e-6,1e-9,1e-11],'clf__max_iter':[100000]}]\n",
        "t1_start = time.time() \n",
        "clf=GridSearchCV(text_clf, tuned_parameters, scoring='accuracy',cv=5, n_jobs=-1)\n",
        "clf.fit(train.data,train.target)\n",
        "print(clf.best_params_)\n",
        "print(clf.cv_results_['rank_test_score'])\n",
        "print(clf.cv_results_['mean_test_score'])\n",
        "t1_end = time.time() \n",
        "print('processing time is :',t1_end-t1_start)"
      ],
      "execution_count": 0,
      "outputs": [
        {
          "output_type": "stream",
          "text": [
            "{'clf__C': 0.4, 'clf__loss': 'squared_hinge', 'clf__max_iter': 100000, 'clf__tol': 0.0001}\n",
            "[13 13 13 13  9  9  9  9  5  5  5  5  1  1  1  1]\n",
            "[0.75624135 0.75624135 0.75624135 0.75624135 0.76639445 0.76639445\n",
            " 0.76639445 0.76639445 0.76797792 0.76797792 0.76797792 0.76797792\n",
            " 0.76900235 0.76900235 0.76900235 0.76900235]\n",
            "processing time is : 206.93567657470703\n"
          ],
          "name": "stdout"
        }
      ]
    },
    {
      "cell_type": "markdown",
      "metadata": {
        "id": "g690Hrrw5VIY",
        "colab_type": "text"
      },
      "source": [
        "## **Best Performance Test Accuracy**"
      ]
    },
    {
      "cell_type": "code",
      "metadata": {
        "id": "EVP1BqUrC0eE",
        "colab_type": "code",
        "outputId": "cab830b3-ce86-4b45-c59f-1c41a2593b2f",
        "colab": {
          "base_uri": "https://localhost:8080/",
          "height": 503
        }
      },
      "source": [
        "stoplist = nltk.corpus.stopwords.words('english')\n",
        "count_vect=CountVectorizer(stop_words=stoplist,lowercase=True,ngram_range=(1,2))\n",
        "tfidf_transformer = TfidfTransformer()\n",
        "X_train_counts = count_vect.fit_transform(train.data)\n",
        "X_train_tfidf = tfidf_transformer.fit_transform(X_train_counts)\n",
        "#Y_train_tfidf = tfidf_transformer.fit_transform(Y_train_counts)\n",
        "\n",
        "X_test_counts = count_vect.transform(tests.data)\n",
        "X_test_tfidf = tfidf_transformer.transform(X_test_counts)\n",
        "t1_start = time.time() \n",
        "SVC_clf = LinearSVC(C=0.195,loss='squared_hinge',max_iter=100000,tol= 0.0001)\n",
        "SVC_clf=SVC_clf.fit(X_train_tfidf,train.target )\n",
        "predicted = SVC_clf.predict(X_test_tfidf)\n",
        "t1_end = time.time() \n",
        "print('processing time is :',t1_end-t1_start)\n",
        "print(classification_report(tests.target, predicted))\n",
        "print(np.mean(predicted ==tests.target))"
      ],
      "execution_count": 0,
      "outputs": [
        {
          "output_type": "stream",
          "text": [
            "processing time is : 4.33213472366333\n",
            "              precision    recall  f1-score   support\n",
            "\n",
            "           0       0.54      0.42      0.47       319\n",
            "           1       0.67      0.71      0.69       389\n",
            "           2       0.67      0.67      0.67       394\n",
            "           3       0.69      0.73      0.71       392\n",
            "           5       0.82      0.73      0.78       395\n",
            "           6       0.73      0.83      0.77       390\n",
            "           7       0.80      0.71      0.75       396\n",
            "           8       0.54      0.80      0.64       398\n",
            "           9       0.82      0.80      0.81       397\n",
            "          10       0.87      0.90      0.88       399\n",
            "          11       0.85      0.74      0.79       396\n",
            "          12       0.67      0.57      0.62       393\n",
            "          13       0.79      0.79      0.79       396\n",
            "          14       0.75      0.76      0.75       394\n",
            "          15       0.58      0.84      0.68       398\n",
            "          16       0.60      0.69      0.64       364\n",
            "          17       0.83      0.77      0.80       376\n",
            "          18       0.63      0.46      0.53       310\n",
            "          19       0.59      0.20      0.30       251\n",
            "\n",
            "    accuracy                           0.71      7147\n",
            "   macro avg       0.71      0.69      0.69      7147\n",
            "weighted avg       0.71      0.71      0.70      7147\n",
            "\n",
            "0.7061704211557297\n"
          ],
          "name": "stdout"
        }
      ]
    },
    {
      "cell_type": "code",
      "metadata": {
        "id": "kFtnan3Fo3kM",
        "colab_type": "code",
        "colab": {
          "base_uri": "https://localhost:8080/",
          "height": 503
        },
        "outputId": "291c6b70-0b12-4b10-aa73-2c5c524ea514"
      },
      "source": [
        "stoplist = nltk.corpus.stopwords.words('english')\n",
        "count_vect=CountVectorizer(lowercase=True,binary=True)\n",
        "tfidf_transformer = TfidfTransformer()\n",
        "\n",
        "t1_start = time.time()\n",
        "X_train_counts = count_vect.fit_transform(train.data)\n",
        "X_train_tfidf = tfidf_transformer.fit_transform(X_train_counts)\n",
        "#Y_train_tfidf = tfidf_transformer.fit_transform(Y_train_counts)\n",
        "\n",
        "X_test_counts = count_vect.transform(tests.data)\n",
        "X_test_tfidf = tfidf_transformer.transform(X_test_counts)\n",
        " \n",
        "SVC_clf = LinearSVC()\n",
        "SVC_clf=SVC_clf.fit(X_train_tfidf,train.target )\n",
        "predicted = SVC_clf.predict(X_test_tfidf)\n",
        "t1_end = time.time() \n",
        "print('processing time is :',t1_end-t1_start)\n",
        "print(classification_report(tests.target, predicted))\n",
        "print(np.mean(predicted ==tests.target))"
      ],
      "execution_count": 14,
      "outputs": [
        {
          "output_type": "stream",
          "text": [
            "processing time is : 4.260435342788696\n",
            "              precision    recall  f1-score   support\n",
            "\n",
            "           0       0.52      0.49      0.50       319\n",
            "           1       0.65      0.72      0.69       389\n",
            "           2       0.62      0.61      0.61       394\n",
            "           3       0.69      0.71      0.70       392\n",
            "           5       0.80      0.71      0.75       395\n",
            "           6       0.81      0.81      0.81       390\n",
            "           7       0.52      0.77      0.62       396\n",
            "           8       0.78      0.76      0.77       398\n",
            "           9       0.83      0.82      0.82       397\n",
            "          10       0.88      0.86      0.87       399\n",
            "          11       0.85      0.72      0.78       396\n",
            "          12       0.65      0.60      0.62       393\n",
            "          13       0.79      0.78      0.78       396\n",
            "          14       0.74      0.74      0.74       394\n",
            "          15       0.67      0.80      0.73       398\n",
            "          16       0.60      0.69      0.64       364\n",
            "          17       0.83      0.77      0.79       376\n",
            "          18       0.60      0.47      0.53       310\n",
            "          19       0.45      0.29      0.35       251\n",
            "\n",
            "    accuracy                           0.70      7147\n",
            "   macro avg       0.70      0.69      0.69      7147\n",
            "weighted avg       0.71      0.70      0.70      7147\n",
            "\n",
            "0.7026724499790121\n"
          ],
          "name": "stdout"
        }
      ]
    },
    {
      "cell_type": "markdown",
      "metadata": {
        "id": "ggPk-gCETuyW",
        "colab_type": "text"
      },
      "source": [
        "### Random Forest"
      ]
    },
    {
      "cell_type": "code",
      "metadata": {
        "id": "OUvuX5bVDqPb",
        "colab_type": "code",
        "outputId": "4a228cd5-5253-4dd5-e344-7baaad7bd100",
        "colab": {
          "base_uri": "https://localhost:8080/",
          "height": 159
        }
      },
      "source": [
        "stoplist = nltk.corpus.stopwords.words('english')\n",
        "\n",
        "text_clf = Pipeline([\n",
        "    ('vect', CountVectorizer(stop_words=stoplist,lowercase=True)),\n",
        "    ('norm',Normalizer()),\n",
        "    ('tfidf', TfidfTransformer()),\n",
        "    ('clf',RandomForestClassifier()),\n",
        " ])\n",
        "\n",
        "tuned_parameters= [{'clf__n_estimators':[50,100,200,300],'clf__max_depth':[1,None]}]\n",
        "t1_start = time.time() \n",
        "clf=GridSearchCV(text_clf, tuned_parameters, scoring='accuracy',cv=5, n_jobs=-1)\n",
        "clf.fit(train.data,train.target)\n",
        "print(clf.best_params_)\n",
        "print(clf.cv_results_['rank_test_score'])\n",
        "print(clf.cv_results_['mean_test_score'])\n",
        "t1_end = time.time() \n",
        "print('processing time is :',t1_end-t1_start)"
      ],
      "execution_count": 0,
      "outputs": [
        {
          "output_type": "stream",
          "text": [
            "/usr/local/lib/python3.6/dist-packages/joblib/externals/loky/process_executor.py:706: UserWarning: A worker stopped while some jobs were given to the executor. This can be caused by a too short worker timeout or by a memory leak.\n",
            "  \"timeout or by a memory leak.\", UserWarning\n"
          ],
          "name": "stderr"
        },
        {
          "output_type": "stream",
          "text": [
            "{'clf__max_depth': None, 'clf__n_estimators': 300}\n",
            "[8 7 6 5 4 3 2 1]\n",
            "[0.22494442 0.31334056 0.37900635 0.43275087 0.65471391 0.67175891\n",
            " 0.68191218 0.68265689]\n",
            "processing time is : 1405.1961953639984\n"
          ],
          "name": "stdout"
        }
      ]
    },
    {
      "cell_type": "markdown",
      "metadata": {
        "id": "rnQLpXHYpLu7",
        "colab_type": "text"
      },
      "source": [
        "### Test Accuracy"
      ]
    },
    {
      "cell_type": "code",
      "metadata": {
        "id": "moUBOb3GJ5m1",
        "colab_type": "code",
        "outputId": "1d9d509c-d5b8-418a-e654-0a90765afd57",
        "colab": {
          "base_uri": "https://localhost:8080/",
          "height": 503
        }
      },
      "source": [
        "stoplist = nltk.corpus.stopwords.words('english')\n",
        "count_vect=CountVectorizer(stop_words=stoplist,lowercase=True)\n",
        "tfidf_transformer = TfidfTransformer()\n",
        "X_train_counts = count_vect.fit_transform(train.data)\n",
        "X_train_tfidf = tfidf_transformer.fit_transform(X_train_counts)\n",
        "#Y_train_tfidf = tfidf_transformer.fit_transform(Y_train_counts)\n",
        "\n",
        "X_test_counts = count_vect.transform(tests.data)\n",
        "X_test_tfidf = tfidf_transformer.transform(X_test_counts)\n",
        "t1_start = time.time() \n",
        "RF_clf = RandomForestClassifier(max_depth=None,n_estimators= 3000,n_jobs=-1)\n",
        "RF_clf=RF_clf.fit(X_train_tfidf,train.target )\n",
        "predicted = RF_clf.predict(X_test_tfidf)\n",
        "t1_end = time.time() \n",
        "print('processing time is :',t1_end-t1_start)\n",
        "print(classification_report(tests.target, predicted))\n",
        "print(np.mean(predicted ==tests.target))"
      ],
      "execution_count": 0,
      "outputs": [
        {
          "output_type": "stream",
          "text": [
            "processing time is : 1438.9273569583893\n",
            "              precision    recall  f1-score   support\n",
            "\n",
            "           0       0.46      0.36      0.40       319\n",
            "           1       0.60      0.62      0.61       389\n",
            "           2       0.60      0.68      0.64       394\n",
            "           3       0.65      0.65      0.65       392\n",
            "           5       0.69      0.72      0.71       395\n",
            "           6       0.72      0.79      0.75       390\n",
            "           7       0.44      0.70      0.54       396\n",
            "           8       0.66      0.72      0.69       398\n",
            "           9       0.75      0.80      0.78       397\n",
            "          10       0.82      0.85      0.84       399\n",
            "          11       0.81      0.67      0.73       396\n",
            "          12       0.55      0.47      0.50       393\n",
            "          13       0.78      0.66      0.72       396\n",
            "          14       0.74      0.67      0.70       394\n",
            "          15       0.57      0.80      0.67       398\n",
            "          16       0.53      0.63      0.58       364\n",
            "          17       0.87      0.71      0.78       376\n",
            "          18       0.56      0.37      0.45       310\n",
            "          19       0.38      0.10      0.15       251\n",
            "\n",
            "    accuracy                           0.65      7147\n",
            "   macro avg       0.64      0.63      0.63      7147\n",
            "weighted avg       0.65      0.65      0.64      7147\n",
            "\n",
            "0.646285154610326\n"
          ],
          "name": "stdout"
        }
      ]
    },
    {
      "cell_type": "code",
      "metadata": {
        "id": "QrerwW5ApOBS",
        "colab_type": "code",
        "colab": {
          "base_uri": "https://localhost:8080/",
          "height": 503
        },
        "outputId": "d49fc32b-b552-45c8-8f0c-419d07c49915"
      },
      "source": [
        "stoplist = nltk.corpus.stopwords.words('english')\n",
        "count_vect=CountVectorizer(lowercase=True,binary=True)\n",
        "tfidf_transformer = TfidfTransformer()\n",
        "X_train_counts = count_vect.fit_transform(train.data)\n",
        "X_train_tfidf = tfidf_transformer.fit_transform(X_train_counts)\n",
        "#Y_train_tfidf = tfidf_transformer.fit_transform(Y_train_counts)\n",
        "\n",
        "X_test_counts = count_vect.transform(tests.data)\n",
        "X_test_tfidf = tfidf_transformer.transform(X_test_counts)\n",
        "t1_start = time.time() \n",
        "RF_clf = RandomForestClassifier()\n",
        "RF_clf=RF_clf.fit(X_train_tfidf,train.target )\n",
        "predicted = RF_clf.predict(X_test_tfidf)\n",
        "t1_end = time.time() \n",
        "print('processing time is :',t1_end-t1_start)\n",
        "print(classification_report(tests.target, predicted))\n",
        "print(np.mean(predicted ==tests.target))"
      ],
      "execution_count": 15,
      "outputs": [
        {
          "output_type": "stream",
          "text": [
            "processing time is : 55.541654109954834\n",
            "              precision    recall  f1-score   support\n",
            "\n",
            "           0       0.36      0.29      0.32       319\n",
            "           1       0.53      0.61      0.57       389\n",
            "           2       0.52      0.62      0.57       394\n",
            "           3       0.62      0.61      0.62       392\n",
            "           5       0.71      0.66      0.68       395\n",
            "           6       0.73      0.78      0.76       390\n",
            "           7       0.43      0.66      0.52       396\n",
            "           8       0.60      0.68      0.63       398\n",
            "           9       0.57      0.77      0.65       397\n",
            "          10       0.77      0.78      0.78       399\n",
            "          11       0.75      0.67      0.71       396\n",
            "          12       0.53      0.39      0.45       393\n",
            "          13       0.72      0.57      0.64       396\n",
            "          14       0.65      0.66      0.66       394\n",
            "          15       0.53      0.75      0.62       398\n",
            "          16       0.54      0.61      0.58       364\n",
            "          17       0.82      0.68      0.74       376\n",
            "          18       0.56      0.24      0.34       310\n",
            "          19       0.27      0.04      0.06       251\n",
            "\n",
            "    accuracy                           0.60      7147\n",
            "   macro avg       0.59      0.58      0.57      7147\n",
            "weighted avg       0.60      0.60      0.59      7147\n",
            "\n",
            "0.6006716104659298\n"
          ],
          "name": "stdout"
        }
      ]
    },
    {
      "cell_type": "markdown",
      "metadata": {
        "id": "EtoZTkdaT1qc",
        "colab_type": "text"
      },
      "source": [
        "### Multinomial Naive Bayes"
      ]
    },
    {
      "cell_type": "code",
      "metadata": {
        "id": "l7vfQSWEePAH",
        "colab_type": "code",
        "outputId": "08d25a4c-b417-400c-c11e-5d7c399e8f92",
        "colab": {
          "base_uri": "https://localhost:8080/",
          "height": 104
        }
      },
      "source": [
        "stoplist = nltk.corpus.stopwords.words('english')\n",
        "stoplist.append('\\n')\n",
        "stoplist.append(' ')\n",
        "stoplist.append('\"')\n",
        "stoplist.append('|')\n",
        "stoplist.append('/')\n",
        "text_clf = Pipeline([\n",
        "    ('vect', CountVectorizer(stop_words=stoplist,lowercase=True)),\n",
        "    ('norm',Normalizer()),\n",
        "    ('tfidf', TfidfTransformer()),\n",
        "    ('clf',MultinomialNB()),\n",
        " ])\n",
        "\n",
        "tuned_parameters= [{'clf__alpha':[0.01,0.015,0.0195,0.02,0.025,0.03,0.04,0.05]}]\n",
        "t1_start = time.time() \n",
        "clf=GridSearchCV(text_clf, tuned_parameters, scoring='accuracy',cv=5, n_jobs=-1)\n",
        "clf.fit(train.data,train.target)\n",
        "print(clf.best_params_)\n",
        "print(clf.cv_results_['rank_test_score'])\n",
        "print(clf.cv_results_['mean_test_score'])\n",
        "t1_end = time.time() \n",
        "print('processing time is :',t1_end-t1_start)"
      ],
      "execution_count": 0,
      "outputs": [
        {
          "output_type": "stream",
          "text": [
            "{'clf__alpha': 0.02}\n",
            "[4 6 2 1 3 5 7 8]\n",
            "[0.77133075 0.77086498 0.77226224 0.77226228 0.7715171  0.77123764\n",
            " 0.76695315 0.76574238]\n",
            "processing time is : 71.96315693855286\n"
          ],
          "name": "stdout"
        }
      ]
    },
    {
      "cell_type": "markdown",
      "metadata": {
        "id": "MoIdrXIDpWk6",
        "colab_type": "text"
      },
      "source": [
        "### Test Accuracy"
      ]
    },
    {
      "cell_type": "code",
      "metadata": {
        "id": "ifkiKuqO3w89",
        "colab_type": "code",
        "outputId": "6571d509-d63c-4af6-94e1-69ced11d23a4",
        "colab": {
          "base_uri": "https://localhost:8080/",
          "height": 503
        }
      },
      "source": [
        "stoplist = nltk.corpus.stopwords.words('english')\n",
        "\n",
        "count_vect=CountVectorizer(stop_words=stoplist,lowercase=True, ngram_range=(1,2))\n",
        "tfidf_transformer = TfidfTransformer()\n",
        "X_train_counts = count_vect.fit_transform(train.data)\n",
        "X_train_tfidf = tfidf_transformer.fit_transform(X_train_counts)\n",
        "#Y_train_tfidf = tfidf_transformer.fit_transform(Y_train_counts)\n",
        "\n",
        "X_test_counts = count_vect.transform(tests.data)\n",
        "X_test_tfidf = tfidf_transformer.transform(X_test_counts)\n",
        "t1_start = time.time() \n",
        "RF_clf = MultinomialNB(alpha=0.0190)\n",
        "RF_clf=RF_clf.fit(X_train_tfidf,train.target )\n",
        "predicted = RF_clf.predict(X_test_tfidf)\n",
        "t1_end = time.time() \n",
        "print('processing time is :',t1_end-t1_start)\n",
        "print(classification_report(tests.target, predicted))\n",
        "print(np.mean(predicted ==tests.target))"
      ],
      "execution_count": 0,
      "outputs": [
        {
          "output_type": "stream",
          "text": [
            "processing time is : 1.1248722076416016\n",
            "              precision    recall  f1-score   support\n",
            "\n",
            "           0       0.74      0.37      0.49       319\n",
            "           1       0.68      0.72      0.70       389\n",
            "           2       0.73      0.58      0.64       394\n",
            "           3       0.68      0.77      0.73       392\n",
            "           5       0.82      0.76      0.79       395\n",
            "           6       0.82      0.81      0.82       390\n",
            "           7       0.81      0.74      0.77       396\n",
            "           8       0.82      0.72      0.77       398\n",
            "           9       0.94      0.81      0.87       397\n",
            "          10       0.60      0.94      0.74       399\n",
            "          11       0.69      0.80      0.74       396\n",
            "          12       0.75      0.57      0.65       393\n",
            "          13       0.81      0.78      0.79       396\n",
            "          14       0.76      0.80      0.78       394\n",
            "          15       0.48      0.91      0.63       398\n",
            "          16       0.59      0.75      0.66       364\n",
            "          17       0.76      0.81      0.79       376\n",
            "          18       0.73      0.44      0.54       310\n",
            "          19       0.64      0.12      0.20       251\n",
            "\n",
            "    accuracy                           0.71      7147\n",
            "   macro avg       0.73      0.69      0.69      7147\n",
            "weighted avg       0.73      0.71      0.70      7147\n",
            "\n",
            "0.7119070938855464\n"
          ],
          "name": "stdout"
        }
      ]
    },
    {
      "cell_type": "code",
      "metadata": {
        "id": "I4p7y24qpaPb",
        "colab_type": "code",
        "colab": {
          "base_uri": "https://localhost:8080/",
          "height": 503
        },
        "outputId": "e644af17-e86a-4e26-8b01-b6fc390fe89c"
      },
      "source": [
        "stoplist = nltk.corpus.stopwords.words('english')\n",
        "\n",
        "count_vect=CountVectorizer(lowercase=True, binary=True)\n",
        "tfidf_transformer = TfidfTransformer()\n",
        "t1_start = time.time() \n",
        "X_train_counts = count_vect.fit_transform(train.data)\n",
        "X_train_tfidf = tfidf_transformer.fit_transform(X_train_counts)\n",
        "#Y_train_tfidf = tfidf_transformer.fit_transform(Y_train_counts)\n",
        "\n",
        "X_test_counts = count_vect.transform(tests.data)\n",
        "X_test_tfidf = tfidf_transformer.transform(X_test_counts)\n",
        "\n",
        "RF_clf = MultinomialNB()\n",
        "RF_clf=RF_clf.fit(X_train_tfidf,train.target )\n",
        "predicted = RF_clf.predict(X_test_tfidf)\n",
        "t1_end = time.time() \n",
        "print('processing time is :',t1_end-t1_start)\n",
        "print(classification_report(tests.target, predicted))\n",
        "print(np.mean(predicted ==tests.target))"
      ],
      "execution_count": 16,
      "outputs": [
        {
          "output_type": "stream",
          "text": [
            "processing time is : 2.8448593616485596\n",
            "              precision    recall  f1-score   support\n",
            "\n",
            "           0       0.78      0.07      0.12       319\n",
            "           1       0.72      0.58      0.64       389\n",
            "           2       0.73      0.43      0.54       394\n",
            "           3       0.58      0.84      0.69       392\n",
            "           5       0.76      0.78      0.77       395\n",
            "           6       0.88      0.72      0.79       390\n",
            "           7       0.85      0.66      0.75       396\n",
            "           8       0.88      0.62      0.73       398\n",
            "           9       0.95      0.71      0.81       397\n",
            "          10       0.60      0.91      0.73       399\n",
            "          11       0.47      0.81      0.59       396\n",
            "          12       0.76      0.43      0.55       393\n",
            "          13       0.85      0.65      0.74       396\n",
            "          14       0.83      0.65      0.73       394\n",
            "          15       0.24      0.94      0.38       398\n",
            "          16       0.60      0.59      0.59       364\n",
            "          17       0.84      0.70      0.76       376\n",
            "          18       0.67      0.03      0.06       310\n",
            "          19       0.67      0.01      0.02       251\n",
            "\n",
            "    accuracy                           0.61      7147\n",
            "   macro avg       0.72      0.59      0.58      7147\n",
            "weighted avg       0.72      0.61      0.60      7147\n",
            "\n",
            "0.6106058486078074\n"
          ],
          "name": "stdout"
        }
      ]
    },
    {
      "cell_type": "markdown",
      "metadata": {
        "id": "lq5iKgOq7vIP",
        "colab_type": "text"
      },
      "source": [
        "### Result Visualization"
      ]
    },
    {
      "cell_type": "code",
      "metadata": {
        "id": "ZySY9A8v9GCB",
        "colab_type": "code",
        "outputId": "f6e34195-f0a8-46f5-97c5-f44774a41605",
        "colab": {
          "base_uri": "https://localhost:8080/",
          "height": 749
        }
      },
      "source": [
        "import matplotlib\n",
        "import matplotlib.pyplot as plt\n",
        "import numpy as np\n",
        "\n",
        "\n",
        "labels = ['LR', 'DecisionTree', 'LinearSVC', 'Adaboost', 'RandomForest','MultinomialNB']\n",
        "testacc= [0.6932,0.43921,0.43837,0.7062,0.6463,0.7119]\n",
        "Trainacc= [0.7522,0.4742,0.4662,0.7690,0.6826,0.7722]\n",
        "\n",
        "x = np.arange(len(labels))  # the label locations\n",
        "width = 0.35  # the width of the bars\n",
        "\n",
        "fig, ax = plt.subplots()\n",
        "rects1 = ax.bar(x - width/2, testacc, width, label='testacc')\n",
        "rects2 = ax.bar(x + width/2, Trainacc, width, label='Trainacc')\n",
        "\n",
        "# Add some text for labels, title and custom x-axis tick labels, etc.\n",
        "ax.set_ylabel('Probability',fontsize=20)\n",
        "ax.set_title('Models',fontsize=20)\n",
        "ax.set_xticks(x)\n",
        "ax.set_xticklabels(labels,fontsize=20)\n",
        "ax.legend()\n",
        "\n",
        "\n",
        "def autolabel(rects):\n",
        "    \"\"\"Attach a text label above each bar in *rects*, displaying its height.\"\"\"\n",
        "    for rect in rects:\n",
        "        height = rect.get_height()\n",
        "        ax.annotate('{}'.format(height),\n",
        "                    xy=(rect.get_x() + rect.get_width() / 2, height),\n",
        "                    xytext=(0, 3),  # 3 points vertical offset\n",
        "                    textcoords=\"offset points\",\n",
        "                    ha='center', va='bottom')\n",
        "\n",
        "\n",
        "autolabel(rects1)\n",
        "autolabel(rects2)\n",
        "fig.set_size_inches(18,10)\n",
        "fig.tight_layout()\n",
        "plt.savefig('plot_name111.jpg', dpi = 300)\n",
        "plt.show()\n"
      ],
      "execution_count": 18,
      "outputs": [
        {
          "output_type": "display_data",
          "data": {
            "image/png": "[encoded data removed]",
            "text/plain": [
              "<Figure size 1296x720 with 1 Axes>"
            ]
          },
          "metadata": {
            "tags": []
          }
        }
      ]
    },
    {
      "cell_type": "code",
      "metadata": {
        "id": "8EAmz8wfPQs1",
        "colab_type": "code",
        "colab": {}
      },
      "source": [
        ""
      ],
      "execution_count": 0,
      "outputs": []
    }
  ]
}