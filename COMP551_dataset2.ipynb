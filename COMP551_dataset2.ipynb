{
  "nbformat": 4,
  "nbformat_minor": 0,
  "metadata": {
    "colab": {
      "name": "COMP551_dataset2.ipynb",
      "provenance": [],
      "collapsed_sections": []
    },
    "kernelspec": {
      "name": "python3",
      "display_name": "Python 3"
    }
  },
  "cells": [
    {
      "cell_type": "code",
      "metadata": {
        "id": "GXFS1KQCNo50",
        "colab_type": "code",
        "outputId": "8b3c6dc0-57c9-4817-9448-4bc277347f3a",
        "colab": {
          "base_uri": "https://localhost:8080/",
          "height": 193
        }
      },
      "source": [
        "import sklearn\n",
        "from sklearn import datasets\n",
        "import numpy as np\n",
        "from sklearn.feature_extraction.text import CountVectorizer\n",
        "import nltk\n",
        "from nltk import word_tokenize        \n",
        "from nltk.stem import WordNetLemmatizer \n",
        "from sklearn.feature_extraction.text import TfidfTransformer\n",
        "from sklearn.linear_model import LogisticRegression\n",
        "from sklearn.preprocessing import Normalizer\n",
        "from sklearn.preprocessing import normalize\n",
        "from sklearn import preprocessing\n",
        "from sklearn import tree\n",
        "from sklearn.ensemble import AdaBoostClassifier\n",
        "from sklearn.svm import LinearSVC\n",
        "from sklearn.ensemble import RandomForestClassifier\n",
        "from sklearn.naive_bayes import MultinomialNB\n",
        "from sklearn.naive_bayes import GaussianNB\n",
        "from sklearn.model_selection import GridSearchCV\n",
        "from sklearn.pipeline import Pipeline\n",
        "import time\n",
        "from sklearn.feature_extraction import stop_words\n",
        "from sklearn.metrics import make_scorer\n",
        "from sklearn.metrics import accuracy_score\n",
        "from matplotlib import pyplot as plt\n",
        "from sklearn.metrics import classification_report\n",
        "from sklearn.feature_selection import SelectKBest\n",
        "from sklearn.feature_selection import chi2\n",
        "from zipfile import ZipFile\n",
        "from sklearn.datasets import load_files\n",
        "\n",
        "nltk.download('punkt')\n",
        "nltk.download('wordnet')\n",
        "nltk.download('stopwords')"
      ],
      "execution_count": 1,
      "outputs": [
        {
          "output_type": "stream",
          "text": [
            "/usr/local/lib/python3.6/dist-packages/sklearn/utils/deprecation.py:144: FutureWarning: The sklearn.feature_extraction.stop_words module is  deprecated in version 0.22 and will be removed in version 0.24. The corresponding classes / functions should instead be imported from sklearn.feature_extraction.text. Anything that cannot be imported from sklearn.feature_extraction.text is now part of the private API.\n",
            "  warnings.warn(message, FutureWarning)\n"
          ],
          "name": "stderr"
        },
        {
          "output_type": "stream",
          "text": [
            "[nltk_data] Downloading package punkt to /root/nltk_data...\n",
            "[nltk_data]   Unzipping tokenizers/punkt.zip.\n",
            "[nltk_data] Downloading package wordnet to /root/nltk_data...\n",
            "[nltk_data]   Unzipping corpora/wordnet.zip.\n",
            "[nltk_data] Downloading package stopwords to /root/nltk_data...\n",
            "[nltk_data]   Unzipping corpora/stopwords.zip.\n"
          ],
          "name": "stdout"
        },
        {
          "output_type": "execute_result",
          "data": {
            "text/plain": [
              "True"
            ]
          },
          "metadata": {
            "tags": []
          },
          "execution_count": 1
        }
      ]
    },
    {
      "cell_type": "code",
      "metadata": {
        "id": "vzSYCoLBLiTa",
        "colab_type": "code",
        "outputId": "32cebec8-8a62-4d64-bcee-81b738603714",
        "colab": {
          "base_uri": "https://localhost:8080/",
          "height": 124
        }
      },
      "source": [
        "from google.colab import drive\n",
        "drive.mount(\"/content/drive\")"
      ],
      "execution_count": 2,
      "outputs": [
        {
          "output_type": "stream",
          "text": [
            "Go to this URL in a browser: https://accounts.google.com/o/oauth2/auth?client_id=947318989803-6bn6qk8qdgf4n4g3pfee6491hc0brc4i.apps.googleusercontent.com&redirect_uri=urn%3aietf%3awg%3aoauth%3a2.0%3aoob&response_type=code&scope=email%20https%3a%2f%2fwww.googleapis.com%2fauth%2fdocs.test%20https%3a%2f%2fwww.googleapis.com%2fauth%2fdrive%20https%3a%2f%2fwww.googleapis.com%2fauth%2fdrive.photos.readonly%20https%3a%2f%2fwww.googleapis.com%2fauth%2fpeopleapi.readonly\n",
            "\n",
            "Enter your authorization code:\n",
            "··········\n",
            "Mounted at /content/drive\n"
          ],
          "name": "stdout"
        }
      ]
    },
    {
      "cell_type": "code",
      "metadata": {
        "id": "8yTwo-2-YnRY",
        "colab_type": "code",
        "colab": {}
      },
      "source": [
        "import tarfile\n",
        "my_tar = tarfile.open('/content/drive/My Drive/COMP551_P2/aclImdb_v1.tar')\n",
        "my_tar.extractall('./content/drive/My Drive/COMP551_P2/aclImdb') # specify which folder to extract to\n",
        "my_tar.close()"
      ],
      "execution_count": 0,
      "outputs": []
    },
    {
      "cell_type": "code",
      "metadata": {
        "id": "_rwhrxXg0MSs",
        "colab_type": "code",
        "colab": {}
      },
      "source": [
        "movie_train=load_files('content/drive/My Drive/COMP551_P2/aclImdb/aclImdb/train/', description=None, \n",
        "                                        categories=['neg', 'pos'], load_content=True, shuffle=True,\n",
        "                                        encoding=None, decode_error='strict', random_state=0)\n",
        "movie_test=load_files('content/drive/My Drive/COMP551_P2/aclImdb/aclImdb/test/', description=None, \n",
        "                                        categories=['neg', 'pos'], load_content=True, shuffle=True,\n",
        "                                        encoding=None, decode_error='strict', random_state=0)"
      ],
      "execution_count": 0,
      "outputs": []
    },
    {
      "cell_type": "code",
      "metadata": {
        "id": "3J7TgvOB2in-",
        "colab_type": "code",
        "colab": {}
      },
      "source": [
        "class LemmaTokenizer:\n",
        "     def __init__(self):\n",
        "         self.wnl = WordNetLemmatizer()\n",
        "     def __call__(self, doc):\n",
        "         return [self.wnl.lemmatize(t) for t in word_tokenize(doc)]"
      ],
      "execution_count": 0,
      "outputs": []
    },
    {
      "cell_type": "markdown",
      "metadata": {
        "id": "b4ycJMS74HI5",
        "colab_type": "text"
      },
      "source": [
        "### Logistic Regression"
      ]
    },
    {
      "cell_type": "code",
      "metadata": {
        "id": "54QjNdzDB0n6",
        "colab_type": "code",
        "outputId": "ded84a5c-7ff3-4f2b-f6c8-a6b1018fad39",
        "colab": {
          "base_uri": "https://localhost:8080/",
          "height": 87
        }
      },
      "source": [
        "stoplist = nltk.corpus.stopwords.words('english')\n",
        "text_clf = Pipeline([\n",
        "    ('vect', CountVectorizer(binary=True,lowercase=True)),\n",
        "    ('norm',Normalizer()),\n",
        "    ('tfidf', TfidfTransformer()),\n",
        "    ('clf',LogisticRegression()),\n",
        " ])\n",
        "\n",
        "tuned_parameters= [{'clf__C':[1.0,1.5,2.0,2.5,3.0,4.0,5.0],'clf__tol': [1e-4],'clf__max_iter':[400],'clf__solver':['lbfgs']}]\n",
        "t1_start = time.time() \n",
        "clf=GridSearchCV(text_clf, tuned_parameters, scoring='accuracy',cv=5, n_jobs=-1)\n",
        "clf.fit(movie_train.data,movie_train.target)\n",
        "print(clf.best_params_)\n",
        "print(clf.cv_results_['rank_test_score'])\n",
        "print(clf.cv_results_['mean_test_score'])\n",
        "t1_end = time.time() \n",
        "print('processing time is :',t1_end-t1_start)"
      ],
      "execution_count": 0,
      "outputs": [
        {
          "output_type": "stream",
          "text": [
            "{'clf__C': 3.0, 'clf__max_iter': 400, 'clf__solver': 'lbfgs', 'clf__tol': 0.0001}\n",
            "[7 6 4 5 1 2 3]\n",
            "[0.88872 0.89104 0.8928  0.89276 0.8934  0.89332 0.89324]\n",
            "processing time is : 188.7863268852234\n"
          ],
          "name": "stdout"
        }
      ]
    },
    {
      "cell_type": "code",
      "metadata": {
        "id": "uJhm9EXo36uU",
        "colab_type": "code",
        "outputId": "fdda1d8b-e8be-4d2d-933f-610dd2fe98c7",
        "colab": {
          "base_uri": "https://localhost:8080/",
          "height": 208
        }
      },
      "source": [
        "lg = LogisticRegression(C= 2.3, max_iter= 40000, solver= 'lbfgs', tol=0.00000000001)\n",
        "stoplist = nltk.corpus.stopwords.words('english')\n",
        "count_vect=CountVectorizer(lowercase=True, binary=True, tokenizer=LemmaTokenizer())\n",
        "tfidf_transformer = TfidfTransformer()\n",
        "#Train data retrieve\n",
        "t1_start = time.time() \n",
        "X_train_counts = count_vect.fit_transform(movie_train.data)\n",
        "X_train_tfidf = tfidf_transformer.fit_transform(X_train_counts)\n",
        "lg.fit(X_train_tfidf, movie_train.target)\n",
        "#Test data retrieve\n",
        "X_test_counts = count_vect.transform(movie_test.data)\n",
        "X_test_tfidf = tfidf_transformer.transform(X_test_counts)\n",
        "\n",
        "#Print the test accuracy\n",
        "predicted = lg.predict(X_test_tfidf)\n",
        "t1_end = time.time() \n",
        "print(classification_report(movie_test.target, predicted))\n",
        "print('mean',np.mean(predicted==movie_test.target))\n",
        "print('processing time is :',t1_end-t1_start)"
      ],
      "execution_count": 0,
      "outputs": [
        {
          "output_type": "stream",
          "text": [
            "              precision    recall  f1-score   support\n",
            "\n",
            "           0       0.89      0.89      0.89     12500\n",
            "           1       0.89      0.89      0.89     12500\n",
            "\n",
            "    accuracy                           0.89     25000\n",
            "   macro avg       0.89      0.89      0.89     25000\n",
            "weighted avg       0.89      0.89      0.89     25000\n",
            "\n",
            "mean 0.88996\n",
            "processing time is : 145.623548746109\n"
          ],
          "name": "stdout"
        }
      ]
    },
    {
      "cell_type": "markdown",
      "metadata": {
        "id": "JmFOMu5KhD2o",
        "colab_type": "text"
      },
      "source": [
        "### Time Consumption"
      ]
    },
    {
      "cell_type": "code",
      "metadata": {
        "id": "Xd6s8P4WhJ9p",
        "colab_type": "code",
        "colab": {
          "base_uri": "https://localhost:8080/",
          "height": 208
        },
        "outputId": "bb8674d2-bd38-45cd-c01e-964f57c3686d"
      },
      "source": [
        "lg = LogisticRegression()\n",
        "stoplist = nltk.corpus.stopwords.words('english')\n",
        "count_vect=CountVectorizer(lowercase=True, binary=True, )\n",
        "tfidf_transformer = TfidfTransformer()\n",
        "#Train data retrieve\n",
        "t1_start = time.time() \n",
        "X_train_counts = count_vect.fit_transform(movie_train.data)\n",
        "X_train_tfidf = tfidf_transformer.fit_transform(X_train_counts)\n",
        "lg.fit(X_train_tfidf, movie_train.target)\n",
        "#Test data retrieve\n",
        "X_test_counts = count_vect.transform(movie_test.data)\n",
        "X_test_tfidf = tfidf_transformer.transform(X_test_counts)\n",
        "\n",
        "#Print the test accuracy\n",
        "predicted = lg.predict(X_test_tfidf)\n",
        "t1_end = time.time() \n",
        "print(classification_report(movie_test.target, predicted))\n",
        "print('mean',np.mean(predicted==movie_test.target))\n",
        "print('processing time is :',t1_end-t1_start)"
      ],
      "execution_count": 19,
      "outputs": [
        {
          "output_type": "stream",
          "text": [
            "              precision    recall  f1-score   support\n",
            "\n",
            "           0       0.89      0.88      0.89     12500\n",
            "           1       0.89      0.89      0.89     12500\n",
            "\n",
            "    accuracy                           0.89     25000\n",
            "   macro avg       0.89      0.89      0.89     25000\n",
            "weighted avg       0.89      0.89      0.89     25000\n",
            "\n",
            "mean 0.88816\n",
            "processing time is : 9.285634517669678\n"
          ],
          "name": "stdout"
        }
      ]
    },
    {
      "cell_type": "markdown",
      "metadata": {
        "id": "n_Xm8zNYPORN",
        "colab_type": "text"
      },
      "source": [
        "### DecisionTree"
      ]
    },
    {
      "cell_type": "code",
      "metadata": {
        "id": "U6HqAbSs4AgS",
        "colab_type": "code",
        "outputId": "b75a892e-cf80-4d74-af81-675caef8a3f2",
        "colab": {
          "base_uri": "https://localhost:8080/",
          "height": 104
        }
      },
      "source": [
        "stoplist = nltk.corpus.stopwords.words('english')\n",
        "text_clf = Pipeline([\n",
        "    ('vect', CountVectorizer(lowercase=True, binary=True)),\n",
        "    ('norm',Normalizer()),\n",
        "    ('tfidf', TfidfTransformer()),\n",
        "    ('clf',tree.DecisionTreeClassifier()),\n",
        " ])\n",
        "\n",
        "tuned_parameters= [{'clf__max_depth':[50,100,200,400,None],'clf__max_features':[None],'clf__splitter':['random','best']}]\n",
        "t1_start = time.time() \n",
        "clf=GridSearchCV(text_clf, tuned_parameters, scoring='accuracy',cv=5, n_jobs=-1)\n",
        "clf.fit(movie_train.data,movie_train.target)\n",
        "print(clf.best_params_)\n",
        "print(clf.cv_results_['rank_test_score'])\n",
        "print(clf.cv_results_['mean_test_score'])\n",
        "t1_end = time.time() \n",
        "print('processing time is :',t1_end-t1_start)"
      ],
      "execution_count": 0,
      "outputs": [
        {
          "output_type": "stream",
          "text": [
            "{'clf__max_depth': 50, 'clf__max_features': None, 'clf__splitter': 'random'}\n",
            "[ 1  2  6  9  4  7  3  8  5 10]\n",
            "[0.71876 0.71496 0.709   0.70588 0.70948 0.70844 0.71432 0.7064  0.70944\n",
            " 0.70508]\n",
            "processing time is : 1290.9369015693665\n"
          ],
          "name": "stdout"
        }
      ]
    },
    {
      "cell_type": "markdown",
      "metadata": {
        "id": "HoCdjnbbkyF2",
        "colab_type": "text"
      },
      "source": [
        "### Test Accuracy"
      ]
    },
    {
      "cell_type": "code",
      "metadata": {
        "id": "AGf-sXmFEsJG",
        "colab_type": "code",
        "outputId": "c105c133-868a-48e2-c3e1-ea669ca059f7",
        "colab": {
          "base_uri": "https://localhost:8080/",
          "height": 208
        }
      },
      "source": [
        "stoplist = nltk.corpus.stopwords.words('english')\n",
        "count_vect=CountVectorizer(lowercase=True)\n",
        "tfidf_transformer = TfidfTransformer()\n",
        "t1_start = time.time()\n",
        "X_train_counts = count_vect.fit_transform(movie_train.data)\n",
        "X_train_tfidf = tfidf_transformer.fit_transform(X_train_counts)\n",
        "#Y_train_tfidf = tfidf_transformer.fit_transform(Y_train_counts)\n",
        "\n",
        "X_test_counts = count_vect.transform(movie_test.data)\n",
        "X_test_tfidf = tfidf_transformer.transform(X_test_counts)\n",
        "\n",
        "DT_clf = tree.DecisionTreeClassifier(max_depth=200, max_features=None, max_leaf_nodes=160, splitter='random')\n",
        "DT_clf=DT_clf.fit(X_train_tfidf,movie_train.target )\n",
        "predicted = DT_clf.predict(X_test_tfidf)\n",
        "t1_end = time.time() \n",
        "print(classification_report(movie_test.target, predicted))\n",
        "print(np.mean(predicted ==movie_test.target))\n",
        "print('processing time is :',t1_end-t1_start)"
      ],
      "execution_count": 0,
      "outputs": [
        {
          "output_type": "stream",
          "text": [
            "              precision    recall  f1-score   support\n",
            "\n",
            "           0       0.75      0.73      0.74     12500\n",
            "           1       0.74      0.76      0.75     12500\n",
            "\n",
            "    accuracy                           0.74     25000\n",
            "   macro avg       0.74      0.74      0.74     25000\n",
            "weighted avg       0.74      0.74      0.74     25000\n",
            "\n",
            "0.74332\n",
            "processing time is : 17.570098876953125\n"
          ],
          "name": "stdout"
        }
      ]
    },
    {
      "cell_type": "markdown",
      "metadata": {
        "id": "FfY3ZfnphQpk",
        "colab_type": "text"
      },
      "source": [
        "### Time Consumption"
      ]
    },
    {
      "cell_type": "code",
      "metadata": {
        "id": "7RWpXXdhhQCj",
        "colab_type": "code",
        "colab": {
          "base_uri": "https://localhost:8080/",
          "height": 208
        },
        "outputId": "0d69fe97-c6ba-4b76-8017-b6f150e330a4"
      },
      "source": [
        "stoplist = nltk.corpus.stopwords.words('english')\n",
        "count_vect=CountVectorizer(lowercase=True,binary=True)\n",
        "tfidf_transformer = TfidfTransformer()\n",
        "t1_start = time.time()\n",
        "X_train_counts = count_vect.fit_transform(movie_train.data)\n",
        "X_train_tfidf = tfidf_transformer.fit_transform(X_train_counts)\n",
        "#Y_train_tfidf = tfidf_transformer.fit_transform(Y_train_counts)\n",
        "\n",
        "X_test_counts = count_vect.transform(movie_test.data)\n",
        "X_test_tfidf = tfidf_transformer.transform(X_test_counts)\n",
        "\n",
        "DT_clf = tree.DecisionTreeClassifier()\n",
        "DT_clf=DT_clf.fit(X_train_tfidf,movie_train.target )\n",
        "predicted = DT_clf.predict(X_test_tfidf)\n",
        "t1_end = time.time() \n",
        "print(classification_report(movie_test.target, predicted))\n",
        "print(np.mean(predicted ==movie_test.target))\n",
        "print('processing time is :',t1_end-t1_start)"
      ],
      "execution_count": 15,
      "outputs": [
        {
          "output_type": "stream",
          "text": [
            "              precision    recall  f1-score   support\n",
            "\n",
            "           0       0.70      0.71      0.70     12500\n",
            "           1       0.70      0.69      0.70     12500\n",
            "\n",
            "    accuracy                           0.70     25000\n",
            "   macro avg       0.70      0.70      0.70     25000\n",
            "weighted avg       0.70      0.70      0.70     25000\n",
            "\n",
            "0.69884\n",
            "processing time is : 61.758042335510254\n"
          ],
          "name": "stdout"
        }
      ]
    },
    {
      "cell_type": "markdown",
      "metadata": {
        "id": "IWj_XkKwYJmG",
        "colab_type": "text"
      },
      "source": [
        "### AdaBoost\n"
      ]
    },
    {
      "cell_type": "code",
      "metadata": {
        "id": "4yDBGj4IEs-1",
        "colab_type": "code",
        "colab": {
          "base_uri": "https://localhost:8080/",
          "height": 87
        },
        "outputId": "9d71d508-4b1d-4ad7-eb33-bc8b4260177b"
      },
      "source": [
        "stoplist = nltk.corpus.stopwords.words('english')\n",
        "\n",
        "text_clf = Pipeline([\n",
        "    ('vect', CountVectorizer(stop_words=stoplist,lowercase=True)),\n",
        "    ('norm',Normalizer()),\n",
        "    ('tfidf', TfidfTransformer()),\n",
        "    ('clf',AdaBoostClassifier()),\n",
        " ])\n",
        "\n",
        "tuned_parameters= [{'clf__learning_rate':[0.1,0.2,0.5,1.0],'clf__n_estimators':[50,100]}]\n",
        "t1_start = time.time() \n",
        "clf=GridSearchCV(text_clf, tuned_parameters, scoring='accuracy',cv=5, n_jobs=-1)\n",
        "clf.fit(movie_train.data,movie_train.target)\n",
        "print(clf.best_params_)\n",
        "print(clf.cv_results_['rank_test_score'])\n",
        "print(clf.cv_results_['mean_test_score'])\n",
        "t1_end = time.time() \n",
        "print('processing time is :',t1_end-t1_start)"
      ],
      "execution_count": 6,
      "outputs": [
        {
          "output_type": "stream",
          "text": [
            "{'clf__learning_rate': 1.0, 'clf__n_estimators': 100}\n",
            "[8 6 7 5 4 2 3 1]\n",
            "[0.72908 0.76716 0.7662  0.7944  0.79744 0.82256 0.80036 0.826  ]\n",
            "processing time is : 921.0975720882416\n"
          ],
          "name": "stdout"
        }
      ]
    },
    {
      "cell_type": "code",
      "metadata": {
        "id": "r4BkoIgzXKR_",
        "colab_type": "code",
        "outputId": "47f51277-b87a-4fd7-c232-747c7b03a31f",
        "colab": {
          "base_uri": "https://localhost:8080/",
          "height": 208
        }
      },
      "source": [
        "stoplist = nltk.corpus.stopwords.words('english')\n",
        "count_vect=CountVectorizer(lowercase=True,binary=True)\n",
        "tfidf_transformer = TfidfTransformer()\n",
        "X_train_counts = count_vect.fit_transform(movie_train.data)\n",
        "X_train_tfidf = tfidf_transformer.fit_transform(X_train_counts)\n",
        "#Y_train_tfidf = tfidf_transformer.fit_transform(Y_train_counts)\n",
        "\n",
        "X_test_counts = count_vect.transform(movie_test.data)\n",
        "X_test_tfidf = tfidf_transformer.transform(X_test_counts)\n",
        "t1_start = time.time() \n",
        "DT_clf = AdaBoostClassifier(learning_rate=0.5,n_estimators=200)\n",
        "DT_clf=DT_clf.fit(X_train_tfidf,movie_train.target )\n",
        "predicted = DT_clf.predict(X_test_tfidf)\n",
        "t1_end = time.time() \n",
        "print('processing time is :',t1_end-t1_start)\n",
        "print(classification_report(movie_test.target, predicted))\n",
        "print(np.mean(predicted ==movie_test.target))"
      ],
      "execution_count": 0,
      "outputs": [
        {
          "output_type": "stream",
          "text": [
            "processing time is : 121.67530393600464\n",
            "              precision    recall  f1-score   support\n",
            "\n",
            "           0       0.87      0.82      0.84     12500\n",
            "           1       0.83      0.87      0.85     12500\n",
            "\n",
            "    accuracy                           0.85     25000\n",
            "   macro avg       0.85      0.85      0.85     25000\n",
            "weighted avg       0.85      0.85      0.85     25000\n",
            "\n",
            "0.84616\n"
          ],
          "name": "stdout"
        }
      ]
    },
    {
      "cell_type": "markdown",
      "metadata": {
        "id": "pICbn6DShcIs",
        "colab_type": "text"
      },
      "source": [
        "### Time Consumption"
      ]
    },
    {
      "cell_type": "code",
      "metadata": {
        "id": "bN-T2kx5hfpQ",
        "colab_type": "code",
        "colab": {
          "base_uri": "https://localhost:8080/",
          "height": 208
        },
        "outputId": "902fd1d2-bddd-4b38-ee73-b8bde417e93b"
      },
      "source": [
        "stoplist = nltk.corpus.stopwords.words('english')\n",
        "count_vect=CountVectorizer(lowercase=True,binary=True)\n",
        "tfidf_transformer = TfidfTransformer()\n",
        "t1_start = time.time() \n",
        "X_train_counts = count_vect.fit_transform(movie_train.data)\n",
        "X_train_tfidf = tfidf_transformer.fit_transform(X_train_counts)\n",
        "#Y_train_tfidf = tfidf_transformer.fit_transform(Y_train_counts)\n",
        "\n",
        "X_test_counts = count_vect.transform(movie_test.data)\n",
        "X_test_tfidf = tfidf_transformer.transform(X_test_counts)\n",
        "\n",
        "DT_clf = AdaBoostClassifier()\n",
        "DT_clf=DT_clf.fit(X_train_tfidf,movie_train.target )\n",
        "predicted = DT_clf.predict(X_test_tfidf)\n",
        "t1_end = time.time() \n",
        "print(classification_report(movie_test.target, predicted))\n",
        "print(np.mean(predicted ==movie_test.target))\n",
        "print('processing time is :',t1_end-t1_start)"
      ],
      "execution_count": 13,
      "outputs": [
        {
          "output_type": "stream",
          "text": [
            "              precision    recall  f1-score   support\n",
            "\n",
            "           0       0.82      0.77      0.80     12500\n",
            "           1       0.79      0.83      0.81     12500\n",
            "\n",
            "    accuracy                           0.80     25000\n",
            "   macro avg       0.81      0.80      0.80     25000\n",
            "weighted avg       0.81      0.80      0.80     25000\n",
            "\n",
            "0.80444\n",
            "processing time is : 39.12897181510925\n"
          ],
          "name": "stdout"
        }
      ]
    },
    {
      "cell_type": "markdown",
      "metadata": {
        "id": "uGWnH924vy1Q",
        "colab_type": "text"
      },
      "source": [
        "### Linear SVC"
      ]
    },
    {
      "cell_type": "code",
      "metadata": {
        "id": "5kBFp0i0YHsE",
        "colab_type": "code",
        "outputId": "71b0068b-5c7d-42e7-d92b-96289354706a",
        "colab": {
          "base_uri": "https://localhost:8080/",
          "height": 104
        }
      },
      "source": [
        "stoplist = nltk.corpus.stopwords.words('english')\n",
        "\n",
        "text_clf = Pipeline([\n",
        "    ('vect', CountVectorizer(lowercase=True,binary=True,ngram_range=(1,2))),\n",
        "    ('norm',Normalizer()),\n",
        "    ('tfidf', TfidfTransformer()),\n",
        "    ('clf',LinearSVC()),\n",
        " ])\n",
        "\n",
        "tuned_parameters= [{'clf__C': [0.1,0.2,0.3,0.4,0.5],'clf__loss':['squared_hinge'],'clf__tol':[1e-6,1e-9,1e-11],'clf__max_iter':[100000]}]\n",
        "t1_start = time.time() \n",
        "clf=GridSearchCV(text_clf, tuned_parameters, scoring='accuracy',cv=5, n_jobs=-1)\n",
        "clf.fit(movie_train.data,movie_train.target)\n",
        "print(clf.best_params_)\n",
        "print(clf.cv_results_['rank_test_score'])\n",
        "print(clf.cv_results_['mean_test_score'])\n",
        "t1_end = time.time() \n",
        "print('processing time is :',t1_end-t1_start)"
      ],
      "execution_count": 0,
      "outputs": [
        {
          "output_type": "stream",
          "text": [
            "{'clf__C': 0.4, 'clf__loss': 'squared_hinge', 'clf__max_iter': 100000, 'clf__tol': 1e-06}\n",
            "[13 13 13 10 10 10  7  7  7  1  1  1  4  4  4]\n",
            "[0.89024 0.89024 0.89024 0.89336 0.89336 0.89336 0.89444 0.89444 0.89444\n",
            " 0.89488 0.89488 0.89488 0.8946  0.8946  0.8946 ]\n",
            "processing time is : 323.3012487888336\n"
          ],
          "name": "stdout"
        }
      ]
    },
    {
      "cell_type": "markdown",
      "metadata": {
        "id": "yRm1PY5bi7oh",
        "colab_type": "text"
      },
      "source": [
        "### Best Performance Test Accuracy"
      ]
    },
    {
      "cell_type": "code",
      "metadata": {
        "id": "dHgbQtoBwdRO",
        "colab_type": "code",
        "outputId": "5ee85e1e-b11f-4bd4-e7e6-348854f5ca6d",
        "colab": {
          "base_uri": "https://localhost:8080/",
          "height": 243
        }
      },
      "source": [
        "stoplist = nltk.corpus.stopwords.words('english')\n",
        "count_vect=CountVectorizer(lowercase=True, ngram_range=(1,2))\n",
        "tfidf_transformer = TfidfTransformer()\n",
        "t1_start = time.time() \n",
        "X_train_counts = count_vect.fit_transform(movie_train.data)\n",
        "X_train_tfidf = tfidf_transformer.fit_transform(X_train_counts)\n",
        "#Y_train_tfidf = tfidf_transformer.fit_transform(Y_train_counts)\n",
        "print(X_train_tfidf.shape)\n",
        "X_test_counts = count_vect.transform(movie_test.data)\n",
        "X_test_tfidf = tfidf_transformer.transform(X_test_counts)\n",
        "\n",
        "SVC_clf = LinearSVC(C=0.50,loss='squared_hinge',max_iter=10000,tol= 0.000001)\n",
        "SVC_clf=SVC_clf.fit(X_train_tfidf,movie_train.target )\n",
        "predictedsvc1 = SVC_clf.predict(X_test_tfidf)\n",
        "print(SVC_clf.score(X_train_tfidf, movie_train.target))\n",
        "t1_end = time.time() \n",
        "print('processing time is :',t1_end-t1_start)\n",
        "print(classification_report(movie_test.target, predictedsvc1))\n",
        "print(np.mean(predictedsvc1 ==movie_test.target))"
      ],
      "execution_count": 0,
      "outputs": [
        {
          "output_type": "stream",
          "text": [
            "(25000, 1513832)\n",
            "0.9982\n",
            "processing time is : 34.81890153884888\n",
            "              precision    recall  f1-score   support\n",
            "\n",
            "           0       0.90      0.90      0.90     12500\n",
            "           1       0.90      0.90      0.90     12500\n",
            "\n",
            "    accuracy                           0.90     25000\n",
            "   macro avg       0.90      0.90      0.90     25000\n",
            "weighted avg       0.90      0.90      0.90     25000\n",
            "\n",
            "0.9024\n"
          ],
          "name": "stdout"
        }
      ]
    },
    {
      "cell_type": "markdown",
      "metadata": {
        "id": "v2sshlC3jDBX",
        "colab_type": "text"
      },
      "source": [
        "### Time Consumption"
      ]
    },
    {
      "cell_type": "code",
      "metadata": {
        "id": "ZenQOMWRhkW1",
        "colab_type": "code",
        "colab": {
          "base_uri": "https://localhost:8080/",
          "height": 243
        },
        "outputId": "7435d43b-2382-48e6-8204-1fa722c5f11a"
      },
      "source": [
        "stoplist = nltk.corpus.stopwords.words('english')\n",
        "count_vect=CountVectorizer(lowercase=True, binary=True)\n",
        "tfidf_transformer = TfidfTransformer()\n",
        "t1_start = time.time() \n",
        "X_train_counts = count_vect.fit_transform(movie_train.data)\n",
        "X_train_tfidf = tfidf_transformer.fit_transform(X_train_counts)\n",
        "#Y_train_tfidf = tfidf_transformer.fit_transform(Y_train_counts)\n",
        "print(X_train_tfidf.shape)\n",
        "X_test_counts = count_vect.transform(movie_test.data)\n",
        "X_test_tfidf = tfidf_transformer.transform(X_test_counts)\n",
        "\n",
        "SVC_clf = LinearSVC()\n",
        "SVC_clf=SVC_clf.fit(X_train_tfidf,movie_train.target )\n",
        "predictedsvc1 = SVC_clf.predict(X_test_tfidf)\n",
        "print(SVC_clf.score(X_train_tfidf, movie_train.target))\n",
        "t1_end = time.time() \n",
        "\n",
        "print(classification_report(movie_test.target, predictedsvc1))\n",
        "print(np.mean(predictedsvc1 ==movie_test.target))\n",
        "print('processing time is :',t1_end-t1_start)\n"
      ],
      "execution_count": 16,
      "outputs": [
        {
          "output_type": "stream",
          "text": [
            "(25000, 74849)\n",
            "0.99364\n",
            "              precision    recall  f1-score   support\n",
            "\n",
            "           0       0.88      0.88      0.88     12500\n",
            "           1       0.88      0.87      0.88     12500\n",
            "\n",
            "    accuracy                           0.88     25000\n",
            "   macro avg       0.88      0.88      0.88     25000\n",
            "weighted avg       0.88      0.88      0.88     25000\n",
            "\n",
            "0.8778\n",
            "processing time is : 8.945900917053223\n"
          ],
          "name": "stdout"
        }
      ]
    },
    {
      "cell_type": "markdown",
      "metadata": {
        "id": "DF_JnJAvwiQ2",
        "colab_type": "text"
      },
      "source": [
        "### Random Forest"
      ]
    },
    {
      "cell_type": "code",
      "metadata": {
        "id": "U9w5OfHnwsge",
        "colab_type": "code",
        "outputId": "26eba6ad-5715-4100-f929-c743ad15ffd2",
        "colab": {
          "base_uri": "https://localhost:8080/",
          "height": 124
        }
      },
      "source": [
        "stoplist = nltk.corpus.stopwords.words('english')\n",
        "\n",
        "text_clf = Pipeline([\n",
        "    ('vect', CountVectorizer(lowercase=True,binary=True,max_features=30000,ngram_range=(1,2))),\n",
        "    ('norm',Normalizer()),\n",
        "    ('tfidf', TfidfTransformer()),\n",
        "    ('clf',RandomForestClassifier()),\n",
        " ])\n",
        "\n",
        "tuned_parameters= [{'clf__n_estimators':[50,100,200,300],'clf__max_depth':[1,None]}]\n",
        "t1_start = time.time() \n",
        "clf=GridSearchCV(text_clf, tuned_parameters, scoring='accuracy',cv=5, n_jobs=-1)\n",
        "clf.fit(movie_train.data,movie_train.target)\n",
        "print(clf.best_params_)\n",
        "print(clf.cv_results_['rank_test_score'])\n",
        "print(clf.cv_results_['mean_test_score'])\n",
        "t1_end = time.time() "
      ],
      "execution_count": 0,
      "outputs": [
        {
          "output_type": "stream",
          "text": [
            "/usr/local/lib/python3.6/dist-packages/joblib/externals/loky/process_executor.py:706: UserWarning: A worker stopped while some jobs were given to the executor. This can be caused by a too short worker timeout or by a memory leak.\n",
            "  \"timeout or by a memory leak.\", UserWarning\n"
          ],
          "name": "stderr"
        },
        {
          "output_type": "stream",
          "text": [
            "{'clf__max_depth': None, 'clf__n_estimators': 300}\n",
            "[8 7 6 5 4 3 2 1]\n",
            "[0.71016 0.75384 0.7854  0.79424 0.83184 0.84944 0.85564 0.85592]\n"
          ],
          "name": "stdout"
        }
      ]
    },
    {
      "cell_type": "markdown",
      "metadata": {
        "id": "_d9Jt_Z8jHrV",
        "colab_type": "text"
      },
      "source": [
        "### Test Accuracy"
      ]
    },
    {
      "cell_type": "code",
      "metadata": {
        "id": "WH3rqbCVwy4y",
        "colab_type": "code",
        "outputId": "730d4c39-3785-4412-97ea-f8c09d4a6f1e",
        "colab": {
          "base_uri": "https://localhost:8080/",
          "height": 208
        }
      },
      "source": [
        "stoplist = nltk.corpus.stopwords.words('english')\n",
        "count_vect=CountVectorizer(stop_words=stoplist,lowercase=True)\n",
        "tfidf_transformer = TfidfTransformer()\n",
        "X_train_counts = count_vect.fit_transform(movie_train.data)\n",
        "X_train_tfidf = tfidf_transformer.fit_transform(X_train_counts)\n",
        "#Y_train_tfidf = tfidf_transformer.fit_transform(Y_train_counts)\n",
        "X_test_counts = count_vect.transform(movie_test.data)\n",
        "X_test_tfidf = tfidf_transformer.transform(X_test_counts)\n",
        "t1_start = time.time() \n",
        "RF_clf = RandomForestClassifier(max_depth=None,n_estimators= 300,n_jobs=-1)\n",
        "RF_clf=RF_clf.fit(X_train_tfidf,movie_train.target )\n",
        "predicted = RF_clf.predict(X_test_tfidf)\n",
        "t1_end = time.time() \n",
        "print('processing time is :',t1_end-t1_start)\n",
        "print(classification_report(movie_test.target, predicted))\n",
        "print(np.mean(predicted ==movie_test.target))"
      ],
      "execution_count": 0,
      "outputs": [
        {
          "output_type": "stream",
          "text": [
            "processing time is : 136.19334268569946\n",
            "              precision    recall  f1-score   support\n",
            "\n",
            "           0       0.86      0.87      0.86     12500\n",
            "           1       0.87      0.85      0.86     12500\n",
            "\n",
            "    accuracy                           0.86     25000\n",
            "   macro avg       0.86      0.86      0.86     25000\n",
            "weighted avg       0.86      0.86      0.86     25000\n",
            "\n",
            "0.861\n"
          ],
          "name": "stdout"
        }
      ]
    },
    {
      "cell_type": "markdown",
      "metadata": {
        "id": "OnFXurXZjtyA",
        "colab_type": "text"
      },
      "source": [
        "### Time Consumption"
      ]
    },
    {
      "cell_type": "code",
      "metadata": {
        "id": "cGFhttu1iHRW",
        "colab_type": "code",
        "colab": {
          "base_uri": "https://localhost:8080/",
          "height": 208
        },
        "outputId": "a818e6c8-329c-4dec-e6d1-9f96f3ecebc7"
      },
      "source": [
        "stoplist = nltk.corpus.stopwords.words('english')\n",
        "count_vect=CountVectorizer(lowercase=True,binary=True)\n",
        "tfidf_transformer = TfidfTransformer()\n",
        "t1_start = time.time()\n",
        "X_train_counts = count_vect.fit_transform(movie_train.data)\n",
        "X_train_tfidf = tfidf_transformer.fit_transform(X_train_counts)\n",
        "#Y_train_tfidf = tfidf_transformer.fit_transform(Y_train_counts)\n",
        "X_test_counts = count_vect.transform(movie_test.data)\n",
        "X_test_tfidf = tfidf_transformer.transform(X_test_counts)\n",
        " \n",
        "RF_clf = RandomForestClassifier()\n",
        "RF_clf=RF_clf.fit(X_train_tfidf,movie_train.target )\n",
        "predicted = RF_clf.predict(X_test_tfidf)\n",
        "t1_end = time.time() \n",
        "print('processing time is :',t1_end-t1_start)\n",
        "print(classification_report(movie_test.target, predicted))\n",
        "print(np.mean(predicted ==movie_test.target))"
      ],
      "execution_count": 17,
      "outputs": [
        {
          "output_type": "stream",
          "text": [
            "processing time is : 77.57410025596619\n",
            "              precision    recall  f1-score   support\n",
            "\n",
            "           0       0.82      0.85      0.84     12500\n",
            "           1       0.84      0.82      0.83     12500\n",
            "\n",
            "    accuracy                           0.83     25000\n",
            "   macro avg       0.83      0.83      0.83     25000\n",
            "weighted avg       0.83      0.83      0.83     25000\n",
            "\n",
            "0.83312\n"
          ],
          "name": "stdout"
        }
      ]
    },
    {
      "cell_type": "markdown",
      "metadata": {
        "id": "_Ue80ZSTxQap",
        "colab_type": "text"
      },
      "source": [
        "### Multinomial NB\n"
      ]
    },
    {
      "cell_type": "code",
      "metadata": {
        "id": "HbPt2-U9xTHI",
        "colab_type": "code",
        "outputId": "9c3179bc-a321-484f-9ca8-3ec9402b7faf",
        "colab": {
          "base_uri": "https://localhost:8080/",
          "height": 87
        }
      },
      "source": [
        "stoplist = nltk.corpus.stopwords.words('english')\n",
        "stoplist.append('\\n')\n",
        "stoplist.append(' ')\n",
        "stoplist.append('\"')\n",
        "stoplist.append('|')\n",
        "stoplist.append('/')\n",
        "text_clf = Pipeline([\n",
        "    ('vect', CountVectorizer(stop_words=stoplist,lowercase=True)),\n",
        "    ('norm',Normalizer()),\n",
        "    ('tfidf', TfidfTransformer()),\n",
        "    ('clf',MultinomialNB()),\n",
        " ])\n",
        "\n",
        "tuned_parameters= [{'clf__alpha':[0.01,0.015,0.0195,0.02,0.025,0.03,0.04,0.05]}]\n",
        "t1_start = time.time() \n",
        "clf=GridSearchCV(text_clf, tuned_parameters, scoring='accuracy',cv=5, n_jobs=-1)\n",
        "clf.fit(movie_train.data,movie_train.target)\n",
        "print(clf.best_params_)\n",
        "print(clf.cv_results_['rank_test_score'])\n",
        "print(clf.cv_results_['mean_test_score'])\n",
        "t1_end = time.time() \n",
        "print('processing time is :',t1_end-t1_start)"
      ],
      "execution_count": 0,
      "outputs": [
        {
          "output_type": "stream",
          "text": [
            "{'clf__alpha': 0.05}\n",
            "[8 7 6 5 4 3 2 1]\n",
            "[0.85196 0.85448 0.85644 0.85676 0.85764 0.85888 0.86032 0.86124]\n",
            "processing time is : 147.75551795959473\n"
          ],
          "name": "stdout"
        }
      ]
    },
    {
      "cell_type": "markdown",
      "metadata": {
        "id": "ZKExitZWjzUL",
        "colab_type": "text"
      },
      "source": [
        "### Test Accuracy"
      ]
    },
    {
      "cell_type": "code",
      "metadata": {
        "id": "0CdKEoOtxaFI",
        "colab_type": "code",
        "outputId": "98ef42da-be06-4dec-9552-a9ddbedd43fd",
        "colab": {
          "base_uri": "https://localhost:8080/",
          "height": 208
        }
      },
      "source": [
        "stoplist = nltk.corpus.stopwords.words('english')\n",
        "\n",
        "count_vect=CountVectorizer(stop_words=stoplist,lowercase=True, ngram_range=(1,2))\n",
        "tfidf_transformer = TfidfTransformer()\n",
        "t1_start = time.time() \n",
        "X_train_counts = count_vect.fit_transform(movie_train.data)\n",
        "X_train_tfidf = tfidf_transformer.fit_transform(X_train_counts)\n",
        "#Y_train_tfidf = tfidf_transformer.fit_transform(Y_train_counts)\n",
        "\n",
        "X_test_counts = count_vect.transform(movie_test.data)\n",
        "X_test_tfidf = tfidf_transformer.transform(X_test_counts)\n",
        "\n",
        "RF_clf = MultinomialNB(alpha=0.5)\n",
        "RF_clf=RF_clf.fit(X_train_tfidf,movie_train.target )\n",
        "predicted = RF_clf.predict(X_test_tfidf)\n",
        "t1_end = time.time() \n",
        "print('processing time is :',t1_end-t1_start)\n",
        "print(classification_report(movie_test.target, predicted))\n",
        "print(np.mean(predicted ==movie_test.target))"
      ],
      "execution_count": 0,
      "outputs": [
        {
          "output_type": "stream",
          "text": [
            "processing time is : 0.3083958625793457\n",
            "              precision    recall  f1-score   support\n",
            "\n",
            "           0       0.84      0.89      0.87     12500\n",
            "           1       0.89      0.83      0.86     12500\n",
            "\n",
            "    accuracy                           0.86     25000\n",
            "   macro avg       0.86      0.86      0.86     25000\n",
            "weighted avg       0.86      0.86      0.86     25000\n",
            "\n",
            "0.86232\n"
          ],
          "name": "stdout"
        }
      ]
    },
    {
      "cell_type": "markdown",
      "metadata": {
        "id": "usLzrgbnj2km",
        "colab_type": "text"
      },
      "source": [
        "### Time Consumption"
      ]
    },
    {
      "cell_type": "code",
      "metadata": {
        "id": "Ovm6e93Eiw1L",
        "colab_type": "code",
        "colab": {
          "base_uri": "https://localhost:8080/",
          "height": 208
        },
        "outputId": "68f9e972-9eb2-439d-deb2-8ed6220daa8d"
      },
      "source": [
        "stoplist = nltk.corpus.stopwords.words('english')\n",
        "\n",
        "count_vect=CountVectorizer(lowercase=True, binary=True)\n",
        "tfidf_transformer = TfidfTransformer()\n",
        "t1_start = time.time() \n",
        "X_train_counts = count_vect.fit_transform(movie_train.data)\n",
        "X_train_tfidf = tfidf_transformer.fit_transform(X_train_counts)\n",
        "#Y_train_tfidf = tfidf_transformer.fit_transform(Y_train_counts)\n",
        "\n",
        "X_test_counts = count_vect.transform(movie_test.data)\n",
        "X_test_tfidf = tfidf_transformer.transform(X_test_counts)\n",
        "\n",
        "RF_clf = MultinomialNB(alpha=0.5)\n",
        "RF_clf=RF_clf.fit(X_train_tfidf,movie_train.target )\n",
        "predicted = RF_clf.predict(X_test_tfidf)\n",
        "t1_end = time.time() \n",
        "print('processing time is :',t1_end-t1_start)\n",
        "print(classification_report(movie_test.target, predicted))\n",
        "print(np.mean(predicted ==movie_test.target))"
      ],
      "execution_count": 18,
      "outputs": [
        {
          "output_type": "stream",
          "text": [
            "processing time is : 8.35253381729126\n",
            "              precision    recall  f1-score   support\n",
            "\n",
            "           0       0.81      0.88      0.84     12500\n",
            "           1       0.87      0.79      0.83     12500\n",
            "\n",
            "    accuracy                           0.83     25000\n",
            "   macro avg       0.84      0.83      0.83     25000\n",
            "weighted avg       0.84      0.83      0.83     25000\n",
            "\n",
            "0.83448\n"
          ],
          "name": "stdout"
        }
      ]
    },
    {
      "cell_type": "markdown",
      "metadata": {
        "id": "dx2BmkmHRacP",
        "colab_type": "text"
      },
      "source": [
        "### Overall Test Accuracy"
      ]
    },
    {
      "cell_type": "code",
      "metadata": {
        "id": "RY3wXni9pqu7",
        "colab_type": "code",
        "colab": {}
      },
      "source": [
        "types = ['alt.atheism','comp.graphics',\n",
        "               'comp.os.ms-windows.misc','comp.sys.ibm.pc.hardware',\n",
        "               'comp.sys.ibm.pc.hardware','comp.windows.x','misc.forsale',\n",
        "               'rec.autos','rec.motorcycles','rec.sport.baseball'\n",
        "               ,'rec.sport.hockey','sci.crypt','sci.electronics','sci.med',\n",
        "               'sci.space','soc.religion.christian','talk.politics.guns',\n",
        "               'talk.politics.mideast','talk.politics.misc','talk.religion.misc']"
      ],
      "execution_count": 0,
      "outputs": []
    },
    {
      "cell_type": "code",
      "metadata": {
        "id": "Z7RgrWDbxI3x",
        "colab_type": "code",
        "colab": {}
      },
      "source": [
        "train= sklearn.datasets.fetch_20newsgroups(subset='train',remove=(['headers','footers','quotes']),shuffle=True,random_state=42,categories=types)\n",
        "test= sklearn.datasets.fetch_20newsgroups(subset='test',remove=(['headers','footers','quotes']),shuffle=True,random_state=42,categories=types)"
      ],
      "execution_count": 0,
      "outputs": []
    },
    {
      "cell_type": "code",
      "metadata": {
        "id": "eAlqIW5Dx7IZ",
        "colab_type": "code",
        "outputId": "7bfdd8c6-24cf-44cd-8ca2-2dbe0fa11067",
        "colab": {
          "base_uri": "https://localhost:8080/",
          "height": 503
        }
      },
      "source": [
        "stoplist = nltk.corpus.stopwords.words('english')\n",
        "count_vect=CountVectorizer(stop_words=stoplist,lowercase=True,ngram_range=(1,2))\n",
        "tfidf_transformer = TfidfTransformer()\n",
        "X_train_counts = count_vect.fit_transform(train.data)\n",
        "X_train_tfidf = tfidf_transformer.fit_transform(X_train_counts)\n",
        "#Y_train_tfidf = tfidf_transformer.fit_transform(Y_train_counts)\n",
        "\n",
        "X_test_counts = count_vect.transform(tests.data)\n",
        "X_test_tfidf = tfidf_transformer.transform(X_test_counts)\n",
        "t1_start = time.time() \n",
        "SVC_clf = LinearSVC(C=0.195,loss='squared_hinge',max_iter=100000,tol= 0.0001)\n",
        "SVC_clf=SVC_clf.fit(X_train_tfidf,train.target )\n",
        "predicted_svc2 = SVC_clf.predict(X_test_tfidf)\n",
        "t1_end = time.time() \n",
        "print('processing time is :',t1_end-t1_start)\n",
        "print(classification_report(tests.target, predicted_svc2))\n",
        "print(np.mean(predicted_svc2 ==tests.target))"
      ],
      "execution_count": 0,
      "outputs": [
        {
          "output_type": "stream",
          "text": [
            "processing time is : 3.228790760040283\n",
            "              precision    recall  f1-score   support\n",
            "\n",
            "           0       0.54      0.42      0.47       319\n",
            "           1       0.67      0.71      0.69       389\n",
            "           2       0.67      0.67      0.67       394\n",
            "           3       0.69      0.73      0.71       392\n",
            "           5       0.82      0.73      0.78       395\n",
            "           6       0.73      0.83      0.77       390\n",
            "           7       0.80      0.71      0.75       396\n",
            "           8       0.54      0.80      0.64       398\n",
            "           9       0.82      0.80      0.81       397\n",
            "          10       0.87      0.90      0.88       399\n",
            "          11       0.85      0.74      0.79       396\n",
            "          12       0.67      0.57      0.62       393\n",
            "          13       0.79      0.79      0.79       396\n",
            "          14       0.75      0.76      0.75       394\n",
            "          15       0.58      0.84      0.68       398\n",
            "          16       0.60      0.69      0.64       364\n",
            "          17       0.83      0.77      0.80       376\n",
            "          18       0.63      0.46      0.53       310\n",
            "          19       0.59      0.20      0.30       251\n",
            "\n",
            "    accuracy                           0.71      7147\n",
            "   macro avg       0.71      0.69      0.69      7147\n",
            "weighted avg       0.71      0.71      0.70      7147\n",
            "\n",
            "0.7061704211557297\n"
          ],
          "name": "stdout"
        }
      ]
    },
    {
      "cell_type": "markdown",
      "metadata": {
        "id": "D3TOVmfgyOrk",
        "colab_type": "text"
      },
      "source": [
        "### Best Performance Overall Test Accuracy (Linear SVC)"
      ]
    },
    {
      "cell_type": "code",
      "metadata": {
        "id": "v7mwHyZV3rvE",
        "colab_type": "code",
        "outputId": "1c62d35c-ddb5-4866-aa62-ace722669bfc",
        "colab": {
          "base_uri": "https://localhost:8080/",
          "height": 35
        }
      },
      "source": [
        "(np.mean(predictedsvc1 ==movie_test.target)*(np.shape(movie_test.target)[0])\n",
        "                        +np.mean(predicted_svc2 ==test.target)*(np.shape(test.target)[0]))/(np.shape(movie_test.target)[0]+np.shape(test.target)[0])"
      ],
      "execution_count": 0,
      "outputs": [
        {
          "output_type": "execute_result",
          "data": {
            "text/plain": [
              "0.8587737580489626"
            ]
          },
          "metadata": {
            "tags": []
          },
          "execution_count": 194
        }
      ]
    },
    {
      "cell_type": "code",
      "metadata": {
        "id": "32WsF6uBkCzU",
        "colab_type": "code",
        "colab": {
          "base_uri": "https://localhost:8080/",
          "height": 749
        },
        "outputId": "8a4e36c6-77e3-4411-e169-fba10790e3f0"
      },
      "source": [
        "import matplotlib\n",
        "import matplotlib.pyplot as plt\n",
        "import numpy as np\n",
        "\n",
        "\n",
        "labels = ['LR', 'DecisionTree', 'LinearSVC', 'Adaboost', 'RandomForest','MultinomialNB']\n",
        "testacc= [0.88996,0.74332,0.84616,0.9024,0.86100,0.86232]\n",
        "Trainacc= [0.89276,0.75876,0.826,0.89488,0.85592,0.86124]\n",
        "\n",
        "x = np.arange(len(labels))  # the label locations\n",
        "width = 0.35  # the width of the bars\n",
        "\n",
        "fig, ax = plt.subplots()\n",
        "rects1 = ax.bar(x - width/2, testacc, width, label='testacc')\n",
        "rects2 = ax.bar(x + width/2, Trainacc, width, label='Trainacc')\n",
        "\n",
        "# Add some text for labels, title and custom x-axis tick labels, etc.\n",
        "ax.set_ylabel('Propapility')\n",
        "ax.set_title('Types of Models')\n",
        "ax.set_xticks(x)\n",
        "ax.set_xticklabels(labels)\n",
        "ax.legend()\n",
        "\n",
        "\n",
        "def autolabel(rects):\n",
        "    \"\"\"Attach a text label above each bar in *rects*, displaying its height.\"\"\"\n",
        "    for rect in rects:\n",
        "        height = rect.get_height()\n",
        "        ax.annotate('{}'.format(height),\n",
        "                    xy=(rect.get_x() + rect.get_width() / 2, height),\n",
        "                    xytext=(0, 3),  # 3 points vertical offset\n",
        "                    textcoords=\"offset points\",\n",
        "                    ha='center', va='bottom')\n",
        "\n",
        "\n",
        "autolabel(rects1)\n",
        "autolabel(rects2)\n",
        "fig.set_size_inches(18,10)\n",
        "fig.tight_layout()\n",
        "plt.savefig('plot_name.jpg', dpi = 300)\n",
        "plt.show()"
      ],
      "execution_count": 9,
      "outputs": [
        {
          "output_type": "display_data",
          "data": {
            "image/png": "[encoded data removed]",
            "text/plain": [
              "<Figure size 1296x720 with 1 Axes>"
            ]
          },
          "metadata": {
            "tags": []
          }
        }
      ]
    },
    {
      "cell_type": "code",
      "metadata": {
        "id": "fd3aj2l4rj9C",
        "colab_type": "code",
        "colab": {}
      },
      "source": [
        ""
      ],
      "execution_count": 0,
      "outputs": []
    }
  ]
}